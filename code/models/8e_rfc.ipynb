{
 "cells": [
  {
   "cell_type": "markdown",
   "source": [
    "# Random forest 8 emotions"
   ],
   "metadata": {
    "collapsed": false
   }
  },
  {
   "cell_type": "code",
   "execution_count": 1,
   "metadata": {
    "collapsed": true,
    "ExecuteTime": {
     "start_time": "2023-06-13T22:52:56.396863Z",
     "end_time": "2023-06-13T22:52:57.401512Z"
    }
   },
   "outputs": [],
   "source": [
    "import pandas as pd\n",
    "import numpy as np\n",
    "from sklearn.metrics import classification_report\n",
    "from sklearn.preprocessing import StandardScaler\n",
    "from sklearn.model_selection import train_test_split\n",
    "from sklearn.ensemble import RandomForestClassifier"
   ]
  },
  {
   "cell_type": "markdown",
   "source": [
    "Load data and scale it\n",
    "Remove highly correlated features\n",
    "Create train and test splits"
   ],
   "metadata": {
    "collapsed": false
   }
  },
  {
   "cell_type": "code",
   "execution_count": 2,
   "outputs": [],
   "source": [
    "# data loading\n",
    "dataset = pd.read_csv('../dataset/labeled_8_combined_dataset.csv', index_col=0)\n",
    "\n",
    "data = dataset.iloc[:, :-4]\n",
    "labels = dataset.iloc[:, -1]\n",
    "unique_labels = np.unique(labels)\n",
    "\n",
    "# scaling the data\n",
    "data_scaled = StandardScaler().fit_transform(data)\n",
    "data_scaled = pd.DataFrame(data_scaled, columns=data.columns)\n",
    "\n",
    "# removing correlated features\n",
    "corr = data.corr().abs()\n",
    "upper = corr.where(np.triu(np.ones(corr.shape), k=1).astype(bool))\n",
    "to_drop = [column for column in upper.columns if any(upper[column] > 0.95)]\n",
    "data.drop(to_drop, axis=1, inplace=True)\n",
    "\n",
    "# creating train and test splits\n",
    "data_train, data_test, labels_train, labels_test = train_test_split(data_scaled, labels, test_size=0.1, random_state=0)"
   ],
   "metadata": {
    "collapsed": false,
    "ExecuteTime": {
     "start_time": "2023-06-13T22:52:57.401182Z",
     "end_time": "2023-06-13T22:52:57.646746Z"
    }
   }
  },
  {
   "cell_type": "markdown",
   "source": [
    "# ECG"
   ],
   "metadata": {
    "collapsed": false
   }
  },
  {
   "cell_type": "markdown",
   "source": [
    "Extract only ecg related features"
   ],
   "metadata": {
    "collapsed": false
   }
  },
  {
   "cell_type": "code",
   "execution_count": 3,
   "outputs": [],
   "source": [
    "ecg_columns = [col for col in data.columns if 'ECG' in col or 'HRV' in col]\n",
    "\n",
    "ecg_data_train = data_train[ecg_columns]\n",
    "ecg_data_test = data_test[ecg_columns]"
   ],
   "metadata": {
    "collapsed": false,
    "ExecuteTime": {
     "start_time": "2023-06-13T22:53:01.194351Z",
     "end_time": "2023-06-13T22:53:01.206877Z"
    }
   }
  },
  {
   "cell_type": "markdown",
   "source": [
    "Define the model and train it"
   ],
   "metadata": {
    "collapsed": false
   }
  },
  {
   "cell_type": "code",
   "execution_count": 4,
   "outputs": [],
   "source": [
    "ecg_rfc = RandomForestClassifier(\n",
    "    n_estimators=1000,\n",
    "    criterion='gini',\n",
    "    max_depth=None,\n",
    "    min_samples_split=2,\n",
    "    min_samples_leaf=1,\n",
    "    max_features='sqrt',\n",
    "    random_state=0\n",
    ")"
   ],
   "metadata": {
    "collapsed": false,
    "ExecuteTime": {
     "start_time": "2023-06-13T22:53:01.686825Z",
     "end_time": "2023-06-13T22:53:01.729446Z"
    }
   }
  },
  {
   "cell_type": "code",
   "execution_count": 5,
   "outputs": [],
   "source": [
    "ecg_rfc.fit(ecg_data_train, labels_train)\n",
    "ecg_predictions = ecg_rfc.predict(ecg_data_test)"
   ],
   "metadata": {
    "collapsed": false,
    "ExecuteTime": {
     "start_time": "2023-06-13T22:53:02.738491Z",
     "end_time": "2023-06-13T22:54:12.821168Z"
    }
   }
  },
  {
   "cell_type": "code",
   "execution_count": 6,
   "outputs": [
    {
     "name": "stdout",
     "output_type": "stream",
     "text": [
      "              precision    recall  f1-score   support\n",
      "\n",
      "  Ekscytacja     0.1935    0.0706    0.1034        85\n",
      "   Neutralna     0.2565    0.4949    0.3379       198\n",
      "  Odprezenie     0.2955    0.1111    0.1615       117\n",
      "      Radosc     0.1676    0.1895    0.1779       153\n",
      "      Smutek     0.0556    0.0130    0.0211        77\n",
      "      Wstret     0.2462    0.3571    0.2915       182\n",
      "  Zdziwienie     0.1786    0.0490    0.0769       102\n",
      "       Zlosc     0.1966    0.1608    0.1769       143\n",
      "\n",
      "    accuracy                         0.2271      1057\n",
      "   macro avg     0.1988    0.1808    0.1684      1057\n",
      "weighted avg     0.2109    0.2271    0.1983      1057\n",
      "\n"
     ]
    }
   ],
   "source": [
    "ecg_cr = classification_report(labels_test, ecg_predictions, target_names=unique_labels, zero_division=0, digits=4, output_dict=True)\n",
    "print(classification_report(labels_test, ecg_predictions, target_names=unique_labels, zero_division=0, digits=4))"
   ],
   "metadata": {
    "collapsed": false,
    "ExecuteTime": {
     "start_time": "2023-06-13T22:54:12.821002Z",
     "end_time": "2023-06-13T22:54:12.871342Z"
    }
   }
  },
  {
   "cell_type": "markdown",
   "source": [
    "# EDA"
   ],
   "metadata": {
    "collapsed": false
   }
  },
  {
   "cell_type": "markdown",
   "source": [
    "Extract only ecg related features"
   ],
   "metadata": {
    "collapsed": false
   }
  },
  {
   "cell_type": "code",
   "execution_count": 7,
   "outputs": [],
   "source": [
    "eda_columns = [col for col in data.columns if 'EDA' in col or 'SCR' in col]\n",
    "\n",
    "eda_data_train = data_train[eda_columns]\n",
    "eda_data_test = data_test[eda_columns]"
   ],
   "metadata": {
    "collapsed": false,
    "ExecuteTime": {
     "start_time": "2023-06-13T22:54:12.848452Z",
     "end_time": "2023-06-13T22:54:12.883848Z"
    }
   }
  },
  {
   "cell_type": "markdown",
   "source": [
    "Define the model and train it"
   ],
   "metadata": {
    "collapsed": false
   }
  },
  {
   "cell_type": "code",
   "execution_count": 8,
   "outputs": [],
   "source": [
    "eda_rfc = RandomForestClassifier(\n",
    "    n_estimators=1000,\n",
    "    criterion='gini',\n",
    "    max_depth=None,\n",
    "    min_samples_split=2,\n",
    "    min_samples_leaf=1,\n",
    "    max_features='sqrt',\n",
    "    random_state=0\n",
    ")"
   ],
   "metadata": {
    "collapsed": false,
    "ExecuteTime": {
     "start_time": "2023-06-13T22:54:12.859515Z",
     "end_time": "2023-06-13T22:54:12.929017Z"
    }
   }
  },
  {
   "cell_type": "code",
   "execution_count": 9,
   "outputs": [],
   "source": [
    "eda_rfc.fit(eda_data_train, labels_train)\n",
    "eda_predictions = eda_rfc.predict(eda_data_test)"
   ],
   "metadata": {
    "collapsed": false,
    "ExecuteTime": {
     "start_time": "2023-06-13T22:54:12.900874Z",
     "end_time": "2023-06-13T22:54:51.133072Z"
    }
   }
  },
  {
   "cell_type": "code",
   "execution_count": 10,
   "outputs": [
    {
     "name": "stdout",
     "output_type": "stream",
     "text": [
      "              precision    recall  f1-score   support\n",
      "\n",
      "  Ekscytacja     0.1731    0.1059    0.1314        85\n",
      "   Neutralna     0.3333    0.4899    0.3967       198\n",
      "  Odprezenie     0.1728    0.1197    0.1414       117\n",
      "      Radosc     0.1223    0.1503    0.1349       153\n",
      "      Smutek     0.0571    0.0260    0.0357        77\n",
      "      Wstret     0.2621    0.2967    0.2784       182\n",
      "  Zdziwienie     0.0833    0.0588    0.0690       102\n",
      "       Zlosc     0.2348    0.2168    0.2255       143\n",
      "\n",
      "    accuracy                         0.2233      1057\n",
      "   macro avg     0.1799    0.1830    0.1766      1057\n",
      "weighted avg     0.2023    0.2233    0.2077      1057\n",
      "\n"
     ]
    }
   ],
   "source": [
    "eda_cr = classification_report(labels_test, eda_predictions, target_names=unique_labels, zero_division=0, digits=4, output_dict=True)\n",
    "print(classification_report(labels_test, eda_predictions, target_names=unique_labels, zero_division=0, digits=4))"
   ],
   "metadata": {
    "collapsed": false,
    "ExecuteTime": {
     "start_time": "2023-06-13T22:54:51.132946Z",
     "end_time": "2023-06-13T22:54:51.152395Z"
    }
   }
  },
  {
   "cell_type": "markdown",
   "source": [
    "# Combined"
   ],
   "metadata": {
    "collapsed": false
   }
  },
  {
   "cell_type": "code",
   "execution_count": 11,
   "outputs": [],
   "source": [
    "rfc = RandomForestClassifier(\n",
    "    n_estimators=1000,\n",
    "    criterion='gini',\n",
    "    max_depth=None,\n",
    "    min_samples_split=2,\n",
    "    min_samples_leaf=1,\n",
    "    max_features='sqrt',\n",
    "    random_state=0\n",
    ")"
   ],
   "metadata": {
    "collapsed": false,
    "ExecuteTime": {
     "start_time": "2023-06-13T22:54:51.155532Z",
     "end_time": "2023-06-13T22:54:51.175087Z"
    }
   }
  },
  {
   "cell_type": "code",
   "execution_count": 12,
   "outputs": [],
   "source": [
    "rfc.fit(data_train, labels_train)\n",
    "predictions = rfc.predict(data_test)"
   ],
   "metadata": {
    "collapsed": false,
    "ExecuteTime": {
     "start_time": "2023-06-13T22:54:51.162051Z",
     "end_time": "2023-06-13T22:56:17.384584Z"
    }
   }
  },
  {
   "cell_type": "code",
   "execution_count": 13,
   "outputs": [
    {
     "name": "stdout",
     "output_type": "stream",
     "text": [
      "              precision    recall  f1-score   support\n",
      "\n",
      "  Ekscytacja     0.1667    0.0941    0.1203        85\n",
      "   Neutralna     0.3000    0.4848    0.3707       198\n",
      "  Odprezenie     0.2714    0.1624    0.2032       117\n",
      "      Radosc     0.1390    0.1699    0.1529       153\n",
      "      Smutek     0.0769    0.0130    0.0222        77\n",
      "      Wstret     0.2546    0.3022    0.2764       182\n",
      "  Zdziwienie     0.1132    0.0588    0.0774       102\n",
      "       Zlosc     0.2200    0.2308    0.2253       143\n",
      "\n",
      "    accuracy                         0.2308      1057\n",
      "   macro avg     0.1927    0.1895    0.1810      1057\n",
      "weighted avg     0.2099    0.2308    0.2109      1057\n",
      "\n"
     ]
    }
   ],
   "source": [
    "cr = classification_report(labels_test, predictions, target_names=unique_labels, zero_division=0, digits=4, output_dict=True)\n",
    "print(classification_report(labels_test, predictions, target_names=unique_labels, zero_division=0, digits=4))"
   ],
   "metadata": {
    "collapsed": false,
    "ExecuteTime": {
     "start_time": "2023-06-13T22:56:17.429338Z",
     "end_time": "2023-06-13T22:56:17.469963Z"
    }
   }
  },
  {
   "cell_type": "markdown",
   "source": [
    "# Summary"
   ],
   "metadata": {
    "collapsed": false
   }
  },
  {
   "cell_type": "code",
   "execution_count": 14,
   "outputs": [
    {
     "name": "stdout",
     "output_type": "stream",
     "text": [
      "\n",
      "\tAccuracy:\n",
      "ECG:\t0.22705771050141912\n",
      "EDA:\t0.22327341532639547\n",
      "Both:\t0.23084200567644275\n",
      "\tAverage F1:\n",
      "ECG:\t0.16839533875712412\n",
      "EDA:\t0.17661390545823358\n",
      "Both:\t0.18104828930766337\n",
      "\tWeighted F1:\n",
      "ECG:\t0.19833041716314917\n",
      "EDA:\t0.2077474529395782\n",
      "Both:\t0.21089112895663728\n",
      "\n"
     ]
    }
   ],
   "source": [
    "print(f'''\n",
    "\\tAccuracy:\n",
    "ECG:\\t{ecg_cr['accuracy']}\n",
    "EDA:\\t{eda_cr['accuracy']}\n",
    "Both:\\t{cr['accuracy']}\n",
    "\\tAverage F1:\n",
    "ECG:\\t{ecg_cr['macro avg']['f1-score']}\n",
    "EDA:\\t{eda_cr['macro avg']['f1-score']}\n",
    "Both:\\t{cr['macro avg']['f1-score']}\n",
    "\\tWeighted F1:\n",
    "ECG:\\t{ecg_cr['weighted avg']['f1-score']}\n",
    "EDA:\\t{eda_cr['weighted avg']['f1-score']}\n",
    "Both:\\t{cr['weighted avg']['f1-score']}\n",
    "''')"
   ],
   "metadata": {
    "collapsed": false,
    "ExecuteTime": {
     "start_time": "2023-06-13T22:56:17.450143Z",
     "end_time": "2023-06-13T22:56:17.470331Z"
    }
   }
  },
  {
   "cell_type": "code",
   "execution_count": 14,
   "outputs": [],
   "source": [],
   "metadata": {
    "collapsed": false,
    "ExecuteTime": {
     "start_time": "2023-06-13T22:56:17.459980Z",
     "end_time": "2023-06-13T22:56:17.470435Z"
    }
   }
  }
 ],
 "metadata": {
  "kernelspec": {
   "display_name": "Python 3",
   "language": "python",
   "name": "python3"
  },
  "language_info": {
   "codemirror_mode": {
    "name": "ipython",
    "version": 2
   },
   "file_extension": ".py",
   "mimetype": "text/x-python",
   "name": "python",
   "nbconvert_exporter": "python",
   "pygments_lexer": "ipython2",
   "version": "2.7.6"
  }
 },
 "nbformat": 4,
 "nbformat_minor": 0
}
