{
 "cells": [
  {
   "cell_type": "markdown",
   "source": [
    "# Random forest 8 emotions"
   ],
   "metadata": {
    "collapsed": false
   }
  },
  {
   "cell_type": "code",
   "execution_count": 1,
   "metadata": {
    "collapsed": true,
    "ExecuteTime": {
     "start_time": "2023-06-19T17:31:16.234255Z",
     "end_time": "2023-06-19T17:31:17.020835Z"
    }
   },
   "outputs": [],
   "source": [
    "import pandas as pd\n",
    "import numpy as np\n",
    "from sklearn.metrics import classification_report\n",
    "from sklearn.preprocessing import StandardScaler\n",
    "from sklearn.model_selection import train_test_split\n",
    "from sklearn.ensemble import RandomForestClassifier"
   ]
  },
  {
   "cell_type": "markdown",
   "source": [
    "Load data and scale it\n",
    "Remove highly correlated features\n",
    "Create train and test splits"
   ],
   "metadata": {
    "collapsed": false
   }
  },
  {
   "cell_type": "code",
   "execution_count": 2,
   "outputs": [],
   "source": [
    "# data loading\n",
    "dataset = pd.read_csv('../dataset/labeled_8_combined_dataset.csv', index_col=0)\n",
    "\n",
    "data = dataset.iloc[:, :-4]\n",
    "labels = dataset.iloc[:, -1]\n",
    "unique_labels = np.unique(labels)\n",
    "\n",
    "# scaling the data\n",
    "data_scaled = StandardScaler().fit_transform(data)\n",
    "data_scaled = pd.DataFrame(data_scaled, columns=data.columns)\n",
    "\n",
    "# creating train and test splits\n",
    "data_train, data_test, labels_train, labels_test = train_test_split(data_scaled, labels, test_size=0.1, random_state=0)"
   ],
   "metadata": {
    "collapsed": false,
    "ExecuteTime": {
     "start_time": "2023-06-19T17:31:17.020073Z",
     "end_time": "2023-06-19T17:31:17.124916Z"
    }
   }
  },
  {
   "cell_type": "markdown",
   "source": [
    "# ECG"
   ],
   "metadata": {
    "collapsed": false
   }
  },
  {
   "cell_type": "markdown",
   "source": [
    "Extract only ecg related features"
   ],
   "metadata": {
    "collapsed": false
   }
  },
  {
   "cell_type": "code",
   "execution_count": 3,
   "outputs": [],
   "source": [
    "ecg_columns = [col for col in data.columns if 'ECG' in col or 'HRV' in col]\n",
    "\n",
    "ecg_data_train = data_train[ecg_columns]\n",
    "ecg_data_test = data_test[ecg_columns]"
   ],
   "metadata": {
    "collapsed": false,
    "ExecuteTime": {
     "start_time": "2023-06-19T17:31:17.132122Z",
     "end_time": "2023-06-19T17:31:17.133336Z"
    }
   }
  },
  {
   "cell_type": "markdown",
   "source": [
    "Define the model and train it"
   ],
   "metadata": {
    "collapsed": false
   }
  },
  {
   "cell_type": "code",
   "execution_count": 4,
   "outputs": [],
   "source": [
    "ecg_rfc = RandomForestClassifier(\n",
    "    n_estimators=1000,\n",
    "    criterion='gini',\n",
    "    max_depth=None,\n",
    "    min_samples_split=2,\n",
    "    min_samples_leaf=1,\n",
    "    max_features='sqrt',\n",
    "    random_state=0\n",
    ")"
   ],
   "metadata": {
    "collapsed": false,
    "ExecuteTime": {
     "start_time": "2023-06-19T17:31:17.135687Z",
     "end_time": "2023-06-19T17:31:17.138997Z"
    }
   }
  },
  {
   "cell_type": "code",
   "execution_count": 5,
   "outputs": [],
   "source": [
    "ecg_rfc.fit(ecg_data_train, labels_train)\n",
    "ecg_predictions = ecg_rfc.predict(ecg_data_test)"
   ],
   "metadata": {
    "collapsed": false,
    "ExecuteTime": {
     "start_time": "2023-06-19T17:31:17.144026Z",
     "end_time": "2023-06-19T17:32:23.811843Z"
    }
   }
  },
  {
   "cell_type": "code",
   "execution_count": 6,
   "outputs": [
    {
     "name": "stdout",
     "output_type": "stream",
     "text": [
      "              precision    recall  f1-score   support\n",
      "\n",
      "  Ekscytacja     0.1389    0.0588    0.0826        85\n",
      "   Neutralna     0.2690    0.5000    0.3498       198\n",
      "  Odprezenie     0.2353    0.1026    0.1429       117\n",
      "      Radosc     0.1728    0.1830    0.1778       153\n",
      "      Smutek     0.0000    0.0000    0.0000        77\n",
      "      Wstret     0.2500    0.3626    0.2960       182\n",
      "  Zdziwienie     0.1500    0.0588    0.0845       102\n",
      "       Zlosc     0.1652    0.1329    0.1473       143\n",
      "\n",
      "    accuracy                         0.2223      1057\n",
      "   macro avg     0.1727    0.1748    0.1601      1057\n",
      "weighted avg     0.1925    0.2223    0.1928      1057\n",
      "\n"
     ]
    }
   ],
   "source": [
    "ecg_cr = classification_report(labels_test, ecg_predictions, target_names=unique_labels, zero_division=0, digits=4, output_dict=True)\n",
    "print(classification_report(labels_test, ecg_predictions, target_names=unique_labels, zero_division=0, digits=4))"
   ],
   "metadata": {
    "collapsed": false,
    "ExecuteTime": {
     "start_time": "2023-06-19T17:32:23.839614Z",
     "end_time": "2023-06-19T17:32:23.868421Z"
    }
   }
  },
  {
   "cell_type": "markdown",
   "source": [
    "# EDA"
   ],
   "metadata": {
    "collapsed": false
   }
  },
  {
   "cell_type": "markdown",
   "source": [
    "Extract only ecg related features"
   ],
   "metadata": {
    "collapsed": false
   }
  },
  {
   "cell_type": "code",
   "execution_count": 7,
   "outputs": [],
   "source": [
    "eda_columns = [col for col in data.columns if 'EDA' in col or 'SCR' in col]\n",
    "\n",
    "eda_data_train = data_train[eda_columns]\n",
    "eda_data_test = data_test[eda_columns]"
   ],
   "metadata": {
    "collapsed": false,
    "ExecuteTime": {
     "start_time": "2023-06-19T17:32:23.872720Z",
     "end_time": "2023-06-19T17:32:23.875099Z"
    }
   }
  },
  {
   "cell_type": "markdown",
   "source": [
    "Define the model and train it"
   ],
   "metadata": {
    "collapsed": false
   }
  },
  {
   "cell_type": "code",
   "execution_count": 8,
   "outputs": [],
   "source": [
    "eda_rfc = RandomForestClassifier(\n",
    "    n_estimators=1000,\n",
    "    criterion='gini',\n",
    "    max_depth=None,\n",
    "    min_samples_split=2,\n",
    "    min_samples_leaf=1,\n",
    "    max_features='sqrt',\n",
    "    random_state=0\n",
    ")"
   ],
   "metadata": {
    "collapsed": false,
    "ExecuteTime": {
     "start_time": "2023-06-19T17:32:23.876976Z",
     "end_time": "2023-06-19T17:32:23.881342Z"
    }
   }
  },
  {
   "cell_type": "code",
   "execution_count": 9,
   "outputs": [],
   "source": [
    "eda_rfc.fit(eda_data_train, labels_train)\n",
    "eda_predictions = eda_rfc.predict(eda_data_test)"
   ],
   "metadata": {
    "collapsed": false,
    "ExecuteTime": {
     "start_time": "2023-06-19T17:32:23.881524Z",
     "end_time": "2023-06-19T17:32:56.548355Z"
    }
   }
  },
  {
   "cell_type": "code",
   "execution_count": 10,
   "outputs": [
    {
     "name": "stdout",
     "output_type": "stream",
     "text": [
      "              precision    recall  f1-score   support\n",
      "\n",
      "  Ekscytacja     0.1509    0.0941    0.1159        85\n",
      "   Neutralna     0.3274    0.4646    0.3841       198\n",
      "  Odprezenie     0.1923    0.1282    0.1538       117\n",
      "      Radosc     0.1538    0.1961    0.1724       153\n",
      "      Smutek     0.1081    0.0519    0.0702        77\n",
      "      Wstret     0.2327    0.2582    0.2448       182\n",
      "  Zdziwienie     0.1013    0.0784    0.0884       102\n",
      "       Zlosc     0.2424    0.2238    0.2327       143\n",
      "\n",
      "    accuracy                         0.2233      1057\n",
      "   macro avg     0.1886    0.1869    0.1828      1057\n",
      "weighted avg     0.2075    0.2233    0.2105      1057\n",
      "\n"
     ]
    }
   ],
   "source": [
    "eda_cr = classification_report(labels_test, eda_predictions, target_names=unique_labels, zero_division=0, digits=4, output_dict=True)\n",
    "print(classification_report(labels_test, eda_predictions, target_names=unique_labels, zero_division=0, digits=4))"
   ],
   "metadata": {
    "collapsed": false,
    "ExecuteTime": {
     "start_time": "2023-06-19T17:32:56.548205Z",
     "end_time": "2023-06-19T17:32:56.562390Z"
    }
   }
  },
  {
   "cell_type": "markdown",
   "source": [
    "# Combined"
   ],
   "metadata": {
    "collapsed": false
   }
  },
  {
   "cell_type": "code",
   "execution_count": 11,
   "outputs": [],
   "source": [
    "rfc = RandomForestClassifier(\n",
    "    n_estimators=1000,\n",
    "    criterion='gini',\n",
    "    max_depth=None,\n",
    "    min_samples_split=2,\n",
    "    min_samples_leaf=1,\n",
    "    max_features='sqrt',\n",
    "    random_state=0\n",
    ")"
   ],
   "metadata": {
    "collapsed": false,
    "ExecuteTime": {
     "start_time": "2023-06-19T17:32:56.566215Z",
     "end_time": "2023-06-19T17:32:56.587417Z"
    }
   }
  },
  {
   "cell_type": "code",
   "execution_count": 12,
   "outputs": [],
   "source": [
    "rfc.fit(data_train, labels_train)\n",
    "predictions = rfc.predict(data_test)"
   ],
   "metadata": {
    "collapsed": false,
    "ExecuteTime": {
     "start_time": "2023-06-19T17:32:56.571614Z",
     "end_time": "2023-06-19T17:34:06.254126Z"
    }
   }
  },
  {
   "cell_type": "code",
   "execution_count": 13,
   "outputs": [
    {
     "name": "stdout",
     "output_type": "stream",
     "text": [
      "              precision    recall  f1-score   support\n",
      "\n",
      "  Ekscytacja     0.1667    0.0941    0.1203        85\n",
      "   Neutralna     0.3000    0.4848    0.3707       198\n",
      "  Odprezenie     0.2714    0.1624    0.2032       117\n",
      "      Radosc     0.1390    0.1699    0.1529       153\n",
      "      Smutek     0.0769    0.0130    0.0222        77\n",
      "      Wstret     0.2546    0.3022    0.2764       182\n",
      "  Zdziwienie     0.1132    0.0588    0.0774       102\n",
      "       Zlosc     0.2200    0.2308    0.2253       143\n",
      "\n",
      "    accuracy                         0.2308      1057\n",
      "   macro avg     0.1927    0.1895    0.1810      1057\n",
      "weighted avg     0.2099    0.2308    0.2109      1057\n",
      "\n"
     ]
    }
   ],
   "source": [
    "cr = classification_report(labels_test, predictions, target_names=unique_labels, zero_division=0, digits=4, output_dict=True)\n",
    "print(classification_report(labels_test, predictions, target_names=unique_labels, zero_division=0, digits=4))"
   ],
   "metadata": {
    "collapsed": false,
    "ExecuteTime": {
     "start_time": "2023-06-19T17:34:06.296186Z",
     "end_time": "2023-06-19T17:34:06.312682Z"
    }
   }
  },
  {
   "cell_type": "markdown",
   "source": [
    "# Summary"
   ],
   "metadata": {
    "collapsed": false
   }
  },
  {
   "cell_type": "code",
   "execution_count": 14,
   "outputs": [
    {
     "name": "stdout",
     "output_type": "stream",
     "text": [
      "\n",
      "  Accuracy:\n",
      "ECG:\t0.2223\n",
      "EDA:\t0.2233\n",
      "Both:\t0.2308\n",
      "  Average F1:\n",
      "ECG:\t0.1601\n",
      "EDA:\t0.1828\n",
      "Both:\t0.1810\n",
      "  Weighted F1:\n",
      "ECG:\t0.1928\n",
      "EDA:\t0.2105\n",
      "Both:\t0.2109\n",
      "\n"
     ]
    }
   ],
   "source": [
    "print(f'''\n",
    "  Accuracy:\n",
    "ECG:\\t{ecg_cr['accuracy']:.4f}\n",
    "EDA:\\t{eda_cr['accuracy']:.4f}\n",
    "Both:\\t{cr['accuracy']:.4f}\n",
    "  Average F1:\n",
    "ECG:\\t{ecg_cr['macro avg']['f1-score']:.4f}\n",
    "EDA:\\t{eda_cr['macro avg']['f1-score']:.4f}\n",
    "Both:\\t{cr['macro avg']['f1-score']:.4f}\n",
    "  Weighted F1:\n",
    "ECG:\\t{ecg_cr['weighted avg']['f1-score']:.4f}\n",
    "EDA:\\t{eda_cr['weighted avg']['f1-score']:.4f}\n",
    "Both:\\t{cr['weighted avg']['f1-score']:.4f}\n",
    "''')"
   ],
   "metadata": {
    "collapsed": false,
    "ExecuteTime": {
     "start_time": "2023-06-19T17:34:06.316355Z",
     "end_time": "2023-06-19T17:34:06.321668Z"
    }
   }
  },
  {
   "cell_type": "code",
   "execution_count": 14,
   "outputs": [],
   "source": [],
   "metadata": {
    "collapsed": false,
    "ExecuteTime": {
     "start_time": "2023-06-19T17:34:06.324344Z",
     "end_time": "2023-06-19T17:34:06.325791Z"
    }
   }
  }
 ],
 "metadata": {
  "kernelspec": {
   "display_name": "Python 3",
   "language": "python",
   "name": "python3"
  },
  "language_info": {
   "codemirror_mode": {
    "name": "ipython",
    "version": 2
   },
   "file_extension": ".py",
   "mimetype": "text/x-python",
   "name": "python",
   "nbconvert_exporter": "python",
   "pygments_lexer": "ipython2",
   "version": "2.7.6"
  }
 },
 "nbformat": 4,
 "nbformat_minor": 0
}
