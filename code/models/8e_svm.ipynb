{
 "cells": [
  {
   "cell_type": "markdown",
   "source": [
    "# SVM 8 emotions"
   ],
   "metadata": {
    "collapsed": false
   }
  },
  {
   "cell_type": "code",
   "execution_count": 1,
   "metadata": {
    "collapsed": true,
    "ExecuteTime": {
     "start_time": "2023-06-13T22:51:31.210150Z",
     "end_time": "2023-06-13T22:51:32.274365Z"
    }
   },
   "outputs": [],
   "source": [
    "import pandas as pd\n",
    "import numpy as np\n",
    "from sklearn.metrics import classification_report\n",
    "from sklearn.preprocessing import StandardScaler\n",
    "from sklearn.model_selection import train_test_split\n",
    "from sklearn.svm import SVC"
   ]
  },
  {
   "cell_type": "markdown",
   "source": [
    "Load data and scale it\n",
    "Remove highly correlated features\n",
    "Create train and test splits"
   ],
   "metadata": {
    "collapsed": false
   }
  },
  {
   "cell_type": "code",
   "execution_count": 2,
   "outputs": [],
   "source": [
    "# data loading\n",
    "dataset = pd.read_csv('../dataset/labeled_8_combined_dataset.csv', index_col=0)\n",
    "\n",
    "data = dataset.iloc[:, :-4]\n",
    "labels = dataset.iloc[:, -1]\n",
    "unique_labels = np.unique(labels)\n",
    "\n",
    "# scaling the data\n",
    "data_scaled = StandardScaler().fit_transform(data)\n",
    "data_scaled = pd.DataFrame(data_scaled, columns=data.columns)\n",
    "\n",
    "# removing correlated features\n",
    "corr = data.corr().abs()\n",
    "upper = corr.where(np.triu(np.ones(corr.shape), k=1).astype(bool))\n",
    "to_drop = [column for column in upper.columns if any(upper[column] > 0.95)]\n",
    "data.drop(to_drop, axis=1, inplace=True)\n",
    "\n",
    "# creating train and test splits\n",
    "data_train, data_test, labels_train, labels_test = train_test_split(data_scaled, labels, test_size=0.1, random_state=0)"
   ],
   "metadata": {
    "collapsed": false,
    "ExecuteTime": {
     "start_time": "2023-06-13T22:51:32.752711Z",
     "end_time": "2023-06-13T22:51:33.050539Z"
    }
   }
  },
  {
   "cell_type": "markdown",
   "source": [
    "# ECG"
   ],
   "metadata": {
    "collapsed": false
   }
  },
  {
   "cell_type": "markdown",
   "source": [
    "Extract only ecg related features"
   ],
   "metadata": {
    "collapsed": false
   }
  },
  {
   "cell_type": "code",
   "execution_count": 3,
   "outputs": [],
   "source": [
    "ecg_columns = [col for col in data.columns if 'ECG' in col or 'HRV' in col]\n",
    "\n",
    "ecg_data_train = data_train[ecg_columns]\n",
    "ecg_data_test = data_test[ecg_columns]"
   ],
   "metadata": {
    "collapsed": false,
    "ExecuteTime": {
     "start_time": "2023-06-13T22:51:36.154741Z",
     "end_time": "2023-06-13T22:51:36.163434Z"
    }
   }
  },
  {
   "cell_type": "markdown",
   "source": [
    "Define the model and train it"
   ],
   "metadata": {
    "collapsed": false
   }
  },
  {
   "cell_type": "code",
   "execution_count": 4,
   "outputs": [],
   "source": [
    "ecg_svc = SVC(\n",
    "    C=1.0,\n",
    "    kernel='rbf',\n",
    "    gamma=0.001,\n",
    "    max_iter=-1,\n",
    "    decision_function_shape='ovr'\n",
    ")"
   ],
   "metadata": {
    "collapsed": false,
    "ExecuteTime": {
     "start_time": "2023-06-13T22:51:37.432839Z",
     "end_time": "2023-06-13T22:51:37.444623Z"
    }
   }
  },
  {
   "cell_type": "code",
   "execution_count": 5,
   "outputs": [],
   "source": [
    "ecg_svc.fit(ecg_data_train, labels_train)\n",
    "ecg_predictions = ecg_svc.predict(ecg_data_test)"
   ],
   "metadata": {
    "collapsed": false,
    "ExecuteTime": {
     "start_time": "2023-06-13T22:51:37.875684Z",
     "end_time": "2023-06-13T22:51:51.631475Z"
    }
   }
  },
  {
   "cell_type": "code",
   "execution_count": 6,
   "outputs": [
    {
     "name": "stdout",
     "output_type": "stream",
     "text": [
      "              precision    recall  f1-score   support\n",
      "\n",
      "  Ekscytacja     0.0000    0.0000    0.0000        85\n",
      "   Neutralna     0.1878    0.9949    0.3160       198\n",
      "  Odprezenie     0.0000    0.0000    0.0000       117\n",
      "      Radosc     0.3750    0.0196    0.0373       153\n",
      "      Smutek     0.0000    0.0000    0.0000        77\n",
      "      Wstret     0.0000    0.0000    0.0000       182\n",
      "  Zdziwienie     0.0000    0.0000    0.0000       102\n",
      "       Zlosc     0.0000    0.0000    0.0000       143\n",
      "\n",
      "    accuracy                         0.1892      1057\n",
      "   macro avg     0.0703    0.1268    0.0442      1057\n",
      "weighted avg     0.0895    0.1892    0.0646      1057\n",
      "\n"
     ]
    }
   ],
   "source": [
    "ecg_cr = classification_report(labels_test, ecg_predictions, target_names=unique_labels, zero_division=0, digits=4, output_dict=True)\n",
    "print(classification_report(labels_test, ecg_predictions, target_names=unique_labels, zero_division=0, digits=4))"
   ],
   "metadata": {
    "collapsed": false,
    "ExecuteTime": {
     "start_time": "2023-06-13T22:51:51.670157Z",
     "end_time": "2023-06-13T22:51:51.710147Z"
    }
   }
  },
  {
   "cell_type": "markdown",
   "source": [
    "# EDA"
   ],
   "metadata": {
    "collapsed": false
   }
  },
  {
   "cell_type": "markdown",
   "source": [
    "Extract only ecg related features"
   ],
   "metadata": {
    "collapsed": false
   }
  },
  {
   "cell_type": "code",
   "execution_count": 7,
   "outputs": [],
   "source": [
    "eda_columns = [col for col in data.columns if 'EDA' in col or 'SCR' in col]\n",
    "\n",
    "eda_data_train = data_train[eda_columns]\n",
    "eda_data_test = data_test[eda_columns]"
   ],
   "metadata": {
    "collapsed": false,
    "ExecuteTime": {
     "start_time": "2023-06-13T22:51:51.753867Z",
     "end_time": "2023-06-13T22:51:51.775611Z"
    }
   }
  },
  {
   "cell_type": "markdown",
   "source": [
    "Define the model and train it"
   ],
   "metadata": {
    "collapsed": false
   }
  },
  {
   "cell_type": "code",
   "execution_count": 8,
   "outputs": [],
   "source": [
    "eda_svc = SVC(\n",
    "    C=1.0,\n",
    "    kernel='rbf',\n",
    "    gamma=0.001,\n",
    "    max_iter=-1,\n",
    "    decision_function_shape='ovr'\n",
    ")"
   ],
   "metadata": {
    "collapsed": false,
    "ExecuteTime": {
     "start_time": "2023-06-13T22:51:51.753939Z",
     "end_time": "2023-06-13T22:51:51.789407Z"
    }
   }
  },
  {
   "cell_type": "code",
   "execution_count": 9,
   "outputs": [],
   "source": [
    "eda_svc.fit(eda_data_train, labels_train)\n",
    "eda_predictions = eda_svc.predict(eda_data_test)"
   ],
   "metadata": {
    "collapsed": false,
    "ExecuteTime": {
     "start_time": "2023-06-13T22:51:51.753965Z",
     "end_time": "2023-06-13T22:52:00.021479Z"
    }
   }
  },
  {
   "cell_type": "code",
   "execution_count": 10,
   "outputs": [
    {
     "name": "stdout",
     "output_type": "stream",
     "text": [
      "              precision    recall  f1-score   support\n",
      "\n",
      "  Ekscytacja     0.0000    0.0000    0.0000        85\n",
      "   Neutralna     0.1890    0.9899    0.3174       198\n",
      "  Odprezenie     0.0000    0.0000    0.0000       117\n",
      "      Radosc     0.0000    0.0000    0.0000       153\n",
      "      Smutek     0.0000    0.0000    0.0000        77\n",
      "      Wstret     0.1500    0.0165    0.0297       182\n",
      "  Zdziwienie     0.0000    0.0000    0.0000       102\n",
      "       Zlosc     0.0000    0.0000    0.0000       143\n",
      "\n",
      "    accuracy                         0.1883      1057\n",
      "   macro avg     0.0424    0.1258    0.0434      1057\n",
      "weighted avg     0.0612    0.1883    0.0646      1057\n",
      "\n"
     ]
    }
   ],
   "source": [
    "eda_cr = classification_report(labels_test, eda_predictions, target_names=unique_labels, zero_division=0, digits=4, output_dict=True)\n",
    "print(classification_report(labels_test, eda_predictions, target_names=unique_labels, zero_division=0, digits=4))"
   ],
   "metadata": {
    "collapsed": false,
    "ExecuteTime": {
     "start_time": "2023-06-13T22:52:00.036423Z",
     "end_time": "2023-06-13T22:52:00.118184Z"
    }
   }
  },
  {
   "cell_type": "markdown",
   "source": [
    "# Combined"
   ],
   "metadata": {
    "collapsed": false
   }
  },
  {
   "cell_type": "code",
   "execution_count": 11,
   "outputs": [],
   "source": [
    "svc = SVC(\n",
    "    C=1.0,\n",
    "    kernel='rbf',\n",
    "    gamma=0.001,\n",
    "    max_iter=-1,\n",
    "    decision_function_shape='ovr'\n",
    ")"
   ],
   "metadata": {
    "collapsed": false,
    "ExecuteTime": {
     "start_time": "2023-06-13T22:52:00.116895Z",
     "end_time": "2023-06-13T22:52:00.118436Z"
    }
   }
  },
  {
   "cell_type": "code",
   "execution_count": 12,
   "outputs": [],
   "source": [
    "svc.fit(data_train, labels_train)\n",
    "predictions = svc.predict(data_test)"
   ],
   "metadata": {
    "collapsed": false,
    "ExecuteTime": {
     "start_time": "2023-06-13T22:52:00.116967Z",
     "end_time": "2023-06-13T22:52:16.350593Z"
    }
   }
  },
  {
   "cell_type": "code",
   "execution_count": 13,
   "outputs": [
    {
     "name": "stdout",
     "output_type": "stream",
     "text": [
      "              precision    recall  f1-score   support\n",
      "\n",
      "  Ekscytacja     0.0000    0.0000    0.0000        85\n",
      "   Neutralna     0.1889    0.9596    0.3156       198\n",
      "  Odprezenie     0.0000    0.0000    0.0000       117\n",
      "      Radosc     0.3333    0.0196    0.0370       153\n",
      "      Smutek     0.0000    0.0000    0.0000        77\n",
      "      Wstret     0.2143    0.0495    0.0804       182\n",
      "  Zdziwienie     0.0000    0.0000    0.0000       102\n",
      "       Zlosc     0.0000    0.0000    0.0000       143\n",
      "\n",
      "    accuracy                         0.1911      1057\n",
      "   macro avg     0.0921    0.1286    0.0541      1057\n",
      "weighted avg     0.1205    0.1911    0.0783      1057\n",
      "\n"
     ]
    }
   ],
   "source": [
    "cr = classification_report(labels_test, predictions, target_names=unique_labels, zero_division=0, digits=4, output_dict=True)\n",
    "print(classification_report(labels_test, predictions, target_names=unique_labels, zero_division=0, digits=4))"
   ],
   "metadata": {
    "collapsed": false,
    "ExecuteTime": {
     "start_time": "2023-06-13T22:52:16.392893Z",
     "end_time": "2023-06-13T22:52:16.422532Z"
    }
   }
  },
  {
   "cell_type": "markdown",
   "source": [
    "# Summary"
   ],
   "metadata": {
    "collapsed": false
   }
  },
  {
   "cell_type": "code",
   "execution_count": 14,
   "outputs": [
    {
     "name": "stdout",
     "output_type": "stream",
     "text": [
      "\n",
      "\tAccuracy:\n",
      "ECG:\t0.1892147587511826\n",
      "EDA:\t0.18826868495742669\n",
      "Both:\t0.19110690633869443\n",
      "\tAverage F1:\n",
      "ECG:\t0.04415317258314364\n",
      "EDA:\t0.0433889846474526\n",
      "Both:\t0.0541260997292974\n",
      "\tWeighted F1:\n",
      "ECG:\t0.06458051725464442\n",
      "EDA:\t0.06457228397049428\n",
      "Both:\t0.07831916841894619\n",
      "\n"
     ]
    }
   ],
   "source": [
    "print(f'''\n",
    "\\tAccuracy:\n",
    "ECG:\\t{ecg_cr['accuracy']}\n",
    "EDA:\\t{eda_cr['accuracy']}\n",
    "Both:\\t{cr['accuracy']}\n",
    "\\tAverage F1:\n",
    "ECG:\\t{ecg_cr['macro avg']['f1-score']}\n",
    "EDA:\\t{eda_cr['macro avg']['f1-score']}\n",
    "Both:\\t{cr['macro avg']['f1-score']}\n",
    "\\tWeighted F1:\n",
    "ECG:\\t{ecg_cr['weighted avg']['f1-score']}\n",
    "EDA:\\t{eda_cr['weighted avg']['f1-score']}\n",
    "Both:\\t{cr['weighted avg']['f1-score']}\n",
    "''')"
   ],
   "metadata": {
    "collapsed": false,
    "ExecuteTime": {
     "start_time": "2023-06-13T22:52:16.431459Z",
     "end_time": "2023-06-13T22:52:16.485711Z"
    }
   }
  },
  {
   "cell_type": "code",
   "execution_count": 14,
   "outputs": [],
   "source": [],
   "metadata": {
    "collapsed": false,
    "ExecuteTime": {
     "start_time": "2023-06-13T22:52:16.477263Z",
     "end_time": "2023-06-13T22:52:16.485902Z"
    }
   }
  }
 ],
 "metadata": {
  "kernelspec": {
   "display_name": "Python 3",
   "language": "python",
   "name": "python3"
  },
  "language_info": {
   "codemirror_mode": {
    "name": "ipython",
    "version": 2
   },
   "file_extension": ".py",
   "mimetype": "text/x-python",
   "name": "python",
   "nbconvert_exporter": "python",
   "pygments_lexer": "ipython2",
   "version": "2.7.6"
  }
 },
 "nbformat": 4,
 "nbformat_minor": 0
}
