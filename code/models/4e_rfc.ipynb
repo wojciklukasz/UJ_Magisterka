{
 "cells": [
  {
   "cell_type": "markdown",
   "source": [
    "# Random forest 4 emotions"
   ],
   "metadata": {
    "collapsed": false
   }
  },
  {
   "cell_type": "code",
   "execution_count": 18,
   "metadata": {
    "collapsed": true,
    "ExecuteTime": {
     "start_time": "2023-06-19T16:51:36.807880Z",
     "end_time": "2023-06-19T16:51:36.879406Z"
    }
   },
   "outputs": [],
   "source": [
    "import pandas as pd\n",
    "import numpy as np\n",
    "from sklearn.metrics import classification_report\n",
    "from sklearn.preprocessing import StandardScaler\n",
    "from sklearn.model_selection import train_test_split\n",
    "from sklearn.ensemble import RandomForestClassifier"
   ]
  },
  {
   "cell_type": "markdown",
   "source": [
    "Load data and scale it\n",
    "Remove highly correlated features\n",
    "Create train and test splits"
   ],
   "metadata": {
    "collapsed": false
   }
  },
  {
   "cell_type": "code",
   "execution_count": 19,
   "outputs": [],
   "source": [
    "# data loading\n",
    "dataset = pd.read_csv('../dataset/labeled_4_combined_dataset.csv', index_col=0)\n",
    "\n",
    "data = dataset.iloc[:, :-4]\n",
    "labels = dataset.iloc[:, -1]\n",
    "unique_labels = np.unique(labels)\n",
    "\n",
    "# scaling the data\n",
    "data_scaled = StandardScaler().fit_transform(data)\n",
    "data_scaled = pd.DataFrame(data_scaled, columns=data.columns)\n",
    "\n",
    "# creating train and test splits\n",
    "data_train, data_test, labels_train, labels_test = train_test_split(data_scaled, labels, test_size=0.1, random_state=0)"
   ],
   "metadata": {
    "collapsed": false,
    "ExecuteTime": {
     "start_time": "2023-06-19T16:51:36.818531Z",
     "end_time": "2023-06-19T16:51:37.032418Z"
    }
   }
  },
  {
   "cell_type": "markdown",
   "source": [
    "# ECG"
   ],
   "metadata": {
    "collapsed": false
   }
  },
  {
   "cell_type": "markdown",
   "source": [
    "Extract only ecg related features"
   ],
   "metadata": {
    "collapsed": false
   }
  },
  {
   "cell_type": "code",
   "execution_count": 20,
   "outputs": [],
   "source": [
    "ecg_columns = [col for col in data.columns if 'ECG' in col or 'HRV' in col]\n",
    "\n",
    "ecg_data_train = data_train[ecg_columns]\n",
    "ecg_data_test = data_test[ecg_columns]"
   ],
   "metadata": {
    "collapsed": false,
    "ExecuteTime": {
     "start_time": "2023-06-19T16:51:37.032407Z",
     "end_time": "2023-06-19T16:51:37.032696Z"
    }
   }
  },
  {
   "cell_type": "markdown",
   "source": [
    "Define the model and train it"
   ],
   "metadata": {
    "collapsed": false
   }
  },
  {
   "cell_type": "code",
   "execution_count": 21,
   "outputs": [],
   "source": [
    "ecg_rfc = RandomForestClassifier(\n",
    "    n_estimators=1000,\n",
    "    criterion='gini',\n",
    "    max_depth=None,\n",
    "    min_samples_split=2,\n",
    "    min_samples_leaf=1,\n",
    "    max_features='sqrt',\n",
    "    random_state=0\n",
    ")"
   ],
   "metadata": {
    "collapsed": false,
    "ExecuteTime": {
     "start_time": "2023-06-19T16:51:37.032576Z",
     "end_time": "2023-06-19T16:51:37.032828Z"
    }
   }
  },
  {
   "cell_type": "code",
   "execution_count": 22,
   "outputs": [],
   "source": [
    "ecg_rfc.fit(ecg_data_train, labels_train)\n",
    "ecg_predictions = ecg_rfc.predict(ecg_data_test)"
   ],
   "metadata": {
    "collapsed": false,
    "ExecuteTime": {
     "start_time": "2023-06-19T16:51:37.032753Z",
     "end_time": "2023-06-19T16:52:44.018183Z"
    }
   }
  },
  {
   "cell_type": "code",
   "execution_count": 23,
   "outputs": [
    {
     "name": "stdout",
     "output_type": "stream",
     "text": [
      "              precision    recall  f1-score   support\n",
      "\n",
      "  Ekscytacja     0.3137    0.3389    0.3258       298\n",
      "  Odprezenie     0.4167    0.0777    0.1310       193\n",
      "      Smutek     0.3582    0.6140    0.4524       329\n",
      "       Zlosc     0.2593    0.1477    0.1882       237\n",
      "\n",
      "    accuracy                         0.3340      1057\n",
      "   macro avg     0.3369    0.2946    0.2743      1057\n",
      "weighted avg     0.3341    0.3340    0.2988      1057\n",
      "\n"
     ]
    }
   ],
   "source": [
    "ecg_cr = classification_report(labels_test, ecg_predictions, target_names=unique_labels, zero_division=0, digits=4, output_dict=True)\n",
    "print(classification_report(labels_test, ecg_predictions, target_names=unique_labels, zero_division=0, digits=4))"
   ],
   "metadata": {
    "collapsed": false,
    "ExecuteTime": {
     "start_time": "2023-06-19T16:52:44.060399Z",
     "end_time": "2023-06-19T16:52:44.075831Z"
    }
   }
  },
  {
   "cell_type": "markdown",
   "source": [
    "# EDA"
   ],
   "metadata": {
    "collapsed": false
   }
  },
  {
   "cell_type": "markdown",
   "source": [
    "Extract only ecg related features"
   ],
   "metadata": {
    "collapsed": false
   }
  },
  {
   "cell_type": "code",
   "execution_count": 24,
   "outputs": [],
   "source": [
    "eda_columns = [col for col in data.columns if 'EDA' in col or 'SCR' in col]\n",
    "\n",
    "eda_data_train = data_train[eda_columns]\n",
    "eda_data_test = data_test[eda_columns]"
   ],
   "metadata": {
    "collapsed": false,
    "ExecuteTime": {
     "start_time": "2023-06-19T16:52:44.081348Z",
     "end_time": "2023-06-19T16:52:44.129412Z"
    }
   }
  },
  {
   "cell_type": "markdown",
   "source": [
    "Define the model and train it"
   ],
   "metadata": {
    "collapsed": false
   }
  },
  {
   "cell_type": "code",
   "execution_count": 25,
   "outputs": [],
   "source": [
    "eda_rfc = RandomForestClassifier(\n",
    "    n_estimators=1000,\n",
    "    criterion='gini',\n",
    "    max_depth=None,\n",
    "    min_samples_split=2,\n",
    "    min_samples_leaf=1,\n",
    "    max_features='sqrt',\n",
    "    random_state=0\n",
    ")"
   ],
   "metadata": {
    "collapsed": false,
    "ExecuteTime": {
     "start_time": "2023-06-19T16:52:44.124523Z",
     "end_time": "2023-06-19T16:52:44.129698Z"
    }
   }
  },
  {
   "cell_type": "code",
   "execution_count": 26,
   "outputs": [],
   "source": [
    "eda_rfc.fit(eda_data_train, labels_train)\n",
    "eda_predictions = eda_rfc.predict(eda_data_test)"
   ],
   "metadata": {
    "collapsed": false,
    "ExecuteTime": {
     "start_time": "2023-06-19T16:52:44.124722Z",
     "end_time": "2023-06-19T16:53:16.996618Z"
    }
   }
  },
  {
   "cell_type": "code",
   "execution_count": 27,
   "outputs": [
    {
     "name": "stdout",
     "output_type": "stream",
     "text": [
      "              precision    recall  f1-score   support\n",
      "\n",
      "  Ekscytacja     0.3000    0.3322    0.3153       298\n",
      "  Odprezenie     0.2376    0.1244    0.1633       193\n",
      "      Smutek     0.3492    0.4681    0.4000       329\n",
      "       Zlosc     0.2973    0.2321    0.2607       237\n",
      "\n",
      "    accuracy                         0.3141      1057\n",
      "   macro avg     0.2960    0.2892    0.2848      1057\n",
      "weighted avg     0.3033    0.3141    0.3016      1057\n",
      "\n"
     ]
    }
   ],
   "source": [
    "eda_cr = classification_report(labels_test, eda_predictions, target_names=unique_labels, zero_division=0, digits=4, output_dict=True)\n",
    "print(classification_report(labels_test, eda_predictions, target_names=unique_labels, zero_division=0, digits=4))"
   ],
   "metadata": {
    "collapsed": false,
    "ExecuteTime": {
     "start_time": "2023-06-19T16:53:17.040652Z",
     "end_time": "2023-06-19T16:53:17.053126Z"
    }
   }
  },
  {
   "cell_type": "markdown",
   "source": [
    "# Combined"
   ],
   "metadata": {
    "collapsed": false
   }
  },
  {
   "cell_type": "code",
   "execution_count": 28,
   "outputs": [],
   "source": [
    "rfc = RandomForestClassifier(\n",
    "    n_estimators=1000,\n",
    "    criterion='gini',\n",
    "    max_depth=None,\n",
    "    min_samples_split=2,\n",
    "    min_samples_leaf=1,\n",
    "    max_features='sqrt',\n",
    "    random_state=0\n",
    ")"
   ],
   "metadata": {
    "collapsed": false,
    "ExecuteTime": {
     "start_time": "2023-06-19T16:53:17.058123Z",
     "end_time": "2023-06-19T16:53:17.107467Z"
    }
   }
  },
  {
   "cell_type": "code",
   "execution_count": 29,
   "outputs": [],
   "source": [
    "rfc.fit(data_train, labels_train)\n",
    "predictions = rfc.predict(data_test)"
   ],
   "metadata": {
    "collapsed": false,
    "ExecuteTime": {
     "start_time": "2023-06-19T16:53:17.100445Z",
     "end_time": "2023-06-19T16:54:28.303064Z"
    }
   }
  },
  {
   "cell_type": "code",
   "execution_count": 30,
   "outputs": [
    {
     "name": "stdout",
     "output_type": "stream",
     "text": [
      "              precision    recall  f1-score   support\n",
      "\n",
      "  Ekscytacja     0.3104    0.3490    0.3286       298\n",
      "  Odprezenie     0.3800    0.0984    0.1564       193\n",
      "      Smutek     0.3577    0.5653    0.4382       329\n",
      "       Zlosc     0.2763    0.1772    0.2159       237\n",
      "\n",
      "    accuracy                         0.3321      1057\n",
      "   macro avg     0.3311    0.2975    0.2848      1057\n",
      "weighted avg     0.3302    0.3321    0.3060      1057\n",
      "\n"
     ]
    }
   ],
   "source": [
    "cr = classification_report(labels_test, predictions, target_names=unique_labels, zero_division=0, digits=4, output_dict=True)\n",
    "print(classification_report(labels_test, predictions, target_names=unique_labels, zero_division=0, digits=4))"
   ],
   "metadata": {
    "collapsed": false,
    "ExecuteTime": {
     "start_time": "2023-06-19T16:54:28.359105Z",
     "end_time": "2023-06-19T16:54:28.366411Z"
    }
   }
  },
  {
   "cell_type": "markdown",
   "source": [
    "# Summary"
   ],
   "metadata": {
    "collapsed": false
   }
  },
  {
   "cell_type": "code",
   "execution_count": 31,
   "outputs": [
    {
     "name": "stdout",
     "output_type": "stream",
     "text": [
      "\n",
      "  Accuracy:\n",
      "ECG:\t0.3340\n",
      "EDA:\t0.3141\n",
      "Both:\t0.3321\n",
      "  Average F1:\n",
      "ECG:\t0.2743\n",
      "EDA:\t0.2848\n",
      "Both:\t0.2848\n",
      "  Weighted F1:\n",
      "ECG:\t0.2988\n",
      "EDA:\t0.3016\n",
      "Both:\t0.3060\n",
      "\n"
     ]
    }
   ],
   "source": [
    "print(f'''\n",
    "  Accuracy:\n",
    "ECG:\\t{ecg_cr['accuracy']:.4f}\n",
    "EDA:\\t{eda_cr['accuracy']:.4f}\n",
    "Both:\\t{cr['accuracy']:.4f}\n",
    "  Average F1:\n",
    "ECG:\\t{ecg_cr['macro avg']['f1-score']:.4f}\n",
    "EDA:\\t{eda_cr['macro avg']['f1-score']:.4f}\n",
    "Both:\\t{cr['macro avg']['f1-score']:.4f}\n",
    "  Weighted F1:\n",
    "ECG:\\t{ecg_cr['weighted avg']['f1-score']:.4f}\n",
    "EDA:\\t{eda_cr['weighted avg']['f1-score']:.4f}\n",
    "Both:\\t{cr['weighted avg']['f1-score']:.4f}\n",
    "''')"
   ],
   "metadata": {
    "collapsed": false,
    "ExecuteTime": {
     "start_time": "2023-06-19T16:54:28.362955Z",
     "end_time": "2023-06-19T16:54:28.366663Z"
    }
   }
  },
  {
   "cell_type": "code",
   "execution_count": 31,
   "outputs": [],
   "source": [],
   "metadata": {
    "collapsed": false,
    "ExecuteTime": {
     "start_time": "2023-06-19T16:54:28.364973Z",
     "end_time": "2023-06-19T16:54:28.420926Z"
    }
   }
  }
 ],
 "metadata": {
  "kernelspec": {
   "display_name": "Python 3",
   "language": "python",
   "name": "python3"
  },
  "language_info": {
   "codemirror_mode": {
    "name": "ipython",
    "version": 2
   },
   "file_extension": ".py",
   "mimetype": "text/x-python",
   "name": "python",
   "nbconvert_exporter": "python",
   "pygments_lexer": "ipython2",
   "version": "2.7.6"
  }
 },
 "nbformat": 4,
 "nbformat_minor": 0
}
