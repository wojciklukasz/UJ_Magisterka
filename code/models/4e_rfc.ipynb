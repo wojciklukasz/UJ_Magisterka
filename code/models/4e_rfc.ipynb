{
 "cells": [
  {
   "cell_type": "markdown",
   "source": [
    "# Random forest 4 emotions"
   ],
   "metadata": {
    "collapsed": false
   }
  },
  {
   "cell_type": "code",
   "execution_count": 1,
   "metadata": {
    "collapsed": true,
    "ExecuteTime": {
     "start_time": "2023-06-13T22:30:38.880988Z",
     "end_time": "2023-06-13T22:30:39.562991Z"
    }
   },
   "outputs": [],
   "source": [
    "import pandas as pd\n",
    "import numpy as np\n",
    "from sklearn.metrics import classification_report\n",
    "from sklearn.preprocessing import StandardScaler\n",
    "from sklearn.model_selection import train_test_split\n",
    "from sklearn.ensemble import RandomForestClassifier"
   ]
  },
  {
   "cell_type": "markdown",
   "source": [
    "Load data and scale it\n",
    "Remove highly correlated features\n",
    "Create train and test splits"
   ],
   "metadata": {
    "collapsed": false
   }
  },
  {
   "cell_type": "code",
   "execution_count": 2,
   "outputs": [],
   "source": [
    "# data loading\n",
    "dataset = pd.read_csv('../dataset/labeled_4_combined_dataset.csv', index_col=0)\n",
    "\n",
    "data = dataset.iloc[:, :-4]\n",
    "labels = dataset.iloc[:, -1]\n",
    "unique_labels = np.unique(labels)\n",
    "\n",
    "# scaling the data\n",
    "data_scaled = StandardScaler().fit_transform(data)\n",
    "data_scaled = pd.DataFrame(data_scaled, columns=data.columns)\n",
    "\n",
    "# removing correlated features\n",
    "corr = data.corr().abs()\n",
    "upper = corr.where(np.triu(np.ones(corr.shape), k=1).astype(bool))\n",
    "to_drop = [column for column in upper.columns if any(upper[column] > 0.95)]\n",
    "data.drop(to_drop, axis=1, inplace=True)\n",
    "\n",
    "# creating train and test splits\n",
    "data_train, data_test, labels_train, labels_test = train_test_split(data_scaled, labels, test_size=0.1, random_state=0)"
   ],
   "metadata": {
    "collapsed": false,
    "ExecuteTime": {
     "start_time": "2023-06-13T22:30:42.731194Z",
     "end_time": "2023-06-13T22:30:42.968556Z"
    }
   }
  },
  {
   "cell_type": "markdown",
   "source": [
    "# ECG"
   ],
   "metadata": {
    "collapsed": false
   }
  },
  {
   "cell_type": "markdown",
   "source": [
    "Extract only ecg related features"
   ],
   "metadata": {
    "collapsed": false
   }
  },
  {
   "cell_type": "code",
   "execution_count": 3,
   "outputs": [],
   "source": [
    "ecg_columns = [col for col in data.columns if 'ECG' in col or 'HRV' in col]\n",
    "\n",
    "ecg_data_train = data_train[ecg_columns]\n",
    "ecg_data_test = data_test[ecg_columns]"
   ],
   "metadata": {
    "collapsed": false,
    "ExecuteTime": {
     "start_time": "2023-06-13T22:30:43.789691Z",
     "end_time": "2023-06-13T22:30:43.806228Z"
    }
   }
  },
  {
   "cell_type": "markdown",
   "source": [
    "Define the model and train it"
   ],
   "metadata": {
    "collapsed": false
   }
  },
  {
   "cell_type": "code",
   "execution_count": 4,
   "outputs": [],
   "source": [
    "ecg_rfc = RandomForestClassifier(\n",
    "    n_estimators=1000,\n",
    "    criterion='gini',\n",
    "    max_depth=None,\n",
    "    min_samples_split=2,\n",
    "    min_samples_leaf=1,\n",
    "    max_features='sqrt',\n",
    "    random_state=0\n",
    ")"
   ],
   "metadata": {
    "collapsed": false,
    "ExecuteTime": {
     "start_time": "2023-06-13T22:30:44.345244Z",
     "end_time": "2023-06-13T22:30:44.347623Z"
    }
   }
  },
  {
   "cell_type": "code",
   "execution_count": 5,
   "outputs": [],
   "source": [
    "ecg_rfc.fit(ecg_data_train, labels_train)\n",
    "ecg_predictions = ecg_rfc.predict(ecg_data_test)"
   ],
   "metadata": {
    "collapsed": false,
    "ExecuteTime": {
     "start_time": "2023-06-13T22:30:44.760945Z",
     "end_time": "2023-06-13T22:31:48.921477Z"
    }
   }
  },
  {
   "cell_type": "code",
   "execution_count": 6,
   "outputs": [
    {
     "name": "stdout",
     "output_type": "stream",
     "text": [
      "              precision    recall  f1-score   support\n",
      "\n",
      "  Ekscytacja     0.2914    0.3188    0.3045       298\n",
      "  Odprezenie     0.3514    0.0674    0.1130       193\n",
      "      Smutek     0.3380    0.5866    0.4289       329\n",
      "       Zlosc     0.2764    0.1435    0.1889       237\n",
      "\n",
      "    accuracy                         0.3169      1057\n",
      "   macro avg     0.3143    0.2791    0.2588      1057\n",
      "weighted avg     0.3135    0.3169    0.2823      1057\n",
      "\n"
     ]
    }
   ],
   "source": [
    "ecg_cr = classification_report(labels_test, ecg_predictions, target_names=unique_labels, zero_division=0, digits=4, output_dict=True)\n",
    "print(classification_report(labels_test, ecg_predictions, target_names=unique_labels, zero_division=0, digits=4))"
   ],
   "metadata": {
    "collapsed": false,
    "ExecuteTime": {
     "start_time": "2023-06-13T22:31:48.921426Z",
     "end_time": "2023-06-13T22:31:48.996337Z"
    }
   }
  },
  {
   "cell_type": "markdown",
   "source": [
    "# EDA"
   ],
   "metadata": {
    "collapsed": false
   }
  },
  {
   "cell_type": "markdown",
   "source": [
    "Extract only ecg related features"
   ],
   "metadata": {
    "collapsed": false
   }
  },
  {
   "cell_type": "code",
   "execution_count": 7,
   "outputs": [],
   "source": [
    "eda_columns = [col for col in data.columns if 'EDA' in col or 'SCR' in col]\n",
    "\n",
    "eda_data_train = data_train[eda_columns]\n",
    "eda_data_test = data_test[eda_columns]"
   ],
   "metadata": {
    "collapsed": false,
    "ExecuteTime": {
     "start_time": "2023-06-13T22:31:48.956415Z",
     "end_time": "2023-06-13T22:31:49.003074Z"
    }
   }
  },
  {
   "cell_type": "markdown",
   "source": [
    "Define the model and train it"
   ],
   "metadata": {
    "collapsed": false
   }
  },
  {
   "cell_type": "code",
   "execution_count": 8,
   "outputs": [],
   "source": [
    "eda_rfc = RandomForestClassifier(\n",
    "    n_estimators=1000,\n",
    "    criterion='gini',\n",
    "    max_depth=None,\n",
    "    min_samples_split=2,\n",
    "    min_samples_leaf=1,\n",
    "    max_features='sqrt',\n",
    "    random_state=0\n",
    ")"
   ],
   "metadata": {
    "collapsed": false,
    "ExecuteTime": {
     "start_time": "2023-06-13T22:31:49.002279Z",
     "end_time": "2023-06-13T22:31:49.003460Z"
    }
   }
  },
  {
   "cell_type": "code",
   "execution_count": 9,
   "outputs": [],
   "source": [
    "eda_rfc.fit(eda_data_train, labels_train)\n",
    "eda_predictions = eda_rfc.predict(eda_data_test)"
   ],
   "metadata": {
    "collapsed": false,
    "ExecuteTime": {
     "start_time": "2023-06-13T22:31:49.002377Z",
     "end_time": "2023-06-13T22:32:26.321502Z"
    }
   }
  },
  {
   "cell_type": "code",
   "execution_count": 10,
   "outputs": [
    {
     "name": "stdout",
     "output_type": "stream",
     "text": [
      "              precision    recall  f1-score   support\n",
      "\n",
      "  Ekscytacja     0.2816    0.3289    0.3034       298\n",
      "  Odprezenie     0.2414    0.1088    0.1500       193\n",
      "      Smutek     0.3481    0.4772    0.4026       329\n",
      "       Zlosc     0.3099    0.2236    0.2598       237\n",
      "\n",
      "    accuracy                         0.3113      1057\n",
      "   macro avg     0.2953    0.2846    0.2789      1057\n",
      "weighted avg     0.3013    0.3113    0.2965      1057\n",
      "\n"
     ]
    }
   ],
   "source": [
    "eda_cr = classification_report(labels_test, eda_predictions, target_names=unique_labels, zero_division=0, digits=4, output_dict=True)\n",
    "print(classification_report(labels_test, eda_predictions, target_names=unique_labels, zero_division=0, digits=4))"
   ],
   "metadata": {
    "collapsed": false,
    "ExecuteTime": {
     "start_time": "2023-06-13T22:32:26.321197Z",
     "end_time": "2023-06-13T22:32:26.409195Z"
    }
   }
  },
  {
   "cell_type": "markdown",
   "source": [
    "# Combined"
   ],
   "metadata": {
    "collapsed": false
   }
  },
  {
   "cell_type": "code",
   "execution_count": 11,
   "outputs": [],
   "source": [
    "rfc = RandomForestClassifier(\n",
    "    n_estimators=1000,\n",
    "    criterion='gini',\n",
    "    max_depth=None,\n",
    "    min_samples_split=2,\n",
    "    min_samples_leaf=1,\n",
    "    max_features='sqrt',\n",
    "    random_state=0\n",
    ")"
   ],
   "metadata": {
    "collapsed": false,
    "ExecuteTime": {
     "start_time": "2023-06-13T22:32:26.350452Z",
     "end_time": "2023-06-13T22:32:26.426517Z"
    }
   }
  },
  {
   "cell_type": "code",
   "execution_count": 12,
   "outputs": [],
   "source": [
    "rfc.fit(data_train, labels_train)\n",
    "predictions = rfc.predict(data_test)"
   ],
   "metadata": {
    "collapsed": false,
    "ExecuteTime": {
     "start_time": "2023-06-13T22:32:26.359117Z",
     "end_time": "2023-06-13T22:33:47.492729Z"
    }
   }
  },
  {
   "cell_type": "code",
   "execution_count": 13,
   "outputs": [
    {
     "name": "stdout",
     "output_type": "stream",
     "text": [
      "              precision    recall  f1-score   support\n",
      "\n",
      "  Ekscytacja     0.3104    0.3490    0.3286       298\n",
      "  Odprezenie     0.3800    0.0984    0.1564       193\n",
      "      Smutek     0.3577    0.5653    0.4382       329\n",
      "       Zlosc     0.2763    0.1772    0.2159       237\n",
      "\n",
      "    accuracy                         0.3321      1057\n",
      "   macro avg     0.3311    0.2975    0.2848      1057\n",
      "weighted avg     0.3302    0.3321    0.3060      1057\n",
      "\n"
     ]
    }
   ],
   "source": [
    "cr = classification_report(labels_test, predictions, target_names=unique_labels, zero_division=0, digits=4, output_dict=True)\n",
    "print(classification_report(labels_test, predictions, target_names=unique_labels, zero_division=0, digits=4))"
   ],
   "metadata": {
    "collapsed": false,
    "ExecuteTime": {
     "start_time": "2023-06-13T22:33:47.536936Z",
     "end_time": "2023-06-13T22:33:47.552454Z"
    }
   }
  },
  {
   "cell_type": "markdown",
   "source": [
    "# Summary"
   ],
   "metadata": {
    "collapsed": false
   }
  },
  {
   "cell_type": "code",
   "execution_count": 14,
   "outputs": [
    {
     "name": "stdout",
     "output_type": "stream",
     "text": [
      "\n",
      "\tAccuracy:\n",
      "ECG:\t0.3169347209082308\n",
      "EDA:\t0.31125827814569534\n",
      "Both:\t0.33207190160832545\n",
      "\tAverage F1:\n",
      "ECG:\t0.2588271088814567\n",
      "EDA:\t0.278943399222037\n",
      "Both:\t0.28476836129375027\n",
      "\tWeighted F1:\n",
      "ECG:\t0.28233271703182444\n",
      "EDA:\t0.29648247855862725\n",
      "Both:\t0.30599331687902787\n",
      "\n"
     ]
    }
   ],
   "source": [
    "print(f'''\n",
    "\\tAccuracy:\n",
    "ECG:\\t{ecg_cr['accuracy']}\n",
    "EDA:\\t{eda_cr['accuracy']}\n",
    "Both:\\t{cr['accuracy']}\n",
    "\\tAverage F1:\n",
    "ECG:\\t{ecg_cr['macro avg']['f1-score']}\n",
    "EDA:\\t{eda_cr['macro avg']['f1-score']}\n",
    "Both:\\t{cr['macro avg']['f1-score']}\n",
    "\\tWeighted F1:\n",
    "ECG:\\t{ecg_cr['weighted avg']['f1-score']}\n",
    "EDA:\\t{eda_cr['weighted avg']['f1-score']}\n",
    "Both:\\t{cr['weighted avg']['f1-score']}\n",
    "''')"
   ],
   "metadata": {
    "collapsed": false,
    "ExecuteTime": {
     "start_time": "2023-06-13T22:33:47.556194Z",
     "end_time": "2023-06-13T22:33:47.642285Z"
    }
   }
  },
  {
   "cell_type": "code",
   "execution_count": 14,
   "outputs": [],
   "source": [],
   "metadata": {
    "collapsed": false,
    "ExecuteTime": {
     "start_time": "2023-06-13T22:33:47.597020Z",
     "end_time": "2023-06-13T22:33:47.642844Z"
    }
   }
  }
 ],
 "metadata": {
  "kernelspec": {
   "display_name": "Python 3",
   "language": "python",
   "name": "python3"
  },
  "language_info": {
   "codemirror_mode": {
    "name": "ipython",
    "version": 2
   },
   "file_extension": ".py",
   "mimetype": "text/x-python",
   "name": "python",
   "nbconvert_exporter": "python",
   "pygments_lexer": "ipython2",
   "version": "2.7.6"
  }
 },
 "nbformat": 4,
 "nbformat_minor": 0
}
