{
 "cells": [
  {
   "cell_type": "markdown",
   "source": [
    "# Random forest 6 emotions"
   ],
   "metadata": {
    "collapsed": false
   }
  },
  {
   "cell_type": "code",
   "execution_count": 1,
   "metadata": {
    "collapsed": true,
    "ExecuteTime": {
     "start_time": "2023-06-13T22:39:46.768858Z",
     "end_time": "2023-06-13T22:39:47.414469Z"
    }
   },
   "outputs": [],
   "source": [
    "import pandas as pd\n",
    "import numpy as np\n",
    "from sklearn.metrics import classification_report\n",
    "from sklearn.preprocessing import StandardScaler\n",
    "from sklearn.model_selection import train_test_split\n",
    "from sklearn.ensemble import RandomForestClassifier"
   ]
  },
  {
   "cell_type": "markdown",
   "source": [
    "Load data and scale it\n",
    "Remove highly correlated features\n",
    "Create train and test splits"
   ],
   "metadata": {
    "collapsed": false
   }
  },
  {
   "cell_type": "code",
   "execution_count": 2,
   "outputs": [],
   "source": [
    "# data loading\n",
    "dataset = pd.read_csv('../dataset/labeled_6_combined_dataset.csv', index_col=0)\n",
    "\n",
    "data = dataset.iloc[:, :-4]\n",
    "labels = dataset.iloc[:, -1]\n",
    "unique_labels = np.unique(labels)\n",
    "\n",
    "# scaling the data\n",
    "data_scaled = StandardScaler().fit_transform(data)\n",
    "data_scaled = pd.DataFrame(data_scaled, columns=data.columns)\n",
    "\n",
    "# removing correlated features\n",
    "corr = data.corr().abs()\n",
    "upper = corr.where(np.triu(np.ones(corr.shape), k=1).astype(bool))\n",
    "to_drop = [column for column in upper.columns if any(upper[column] > 0.95)]\n",
    "data.drop(to_drop, axis=1, inplace=True)\n",
    "\n",
    "# creating train and test splits\n",
    "data_train, data_test, labels_train, labels_test = train_test_split(data_scaled, labels, test_size=0.1, random_state=0)"
   ],
   "metadata": {
    "collapsed": false,
    "ExecuteTime": {
     "start_time": "2023-06-13T22:39:52.194288Z",
     "end_time": "2023-06-13T22:39:52.447934Z"
    }
   }
  },
  {
   "cell_type": "markdown",
   "source": [
    "# ECG"
   ],
   "metadata": {
    "collapsed": false
   }
  },
  {
   "cell_type": "markdown",
   "source": [
    "Extract only ecg related features"
   ],
   "metadata": {
    "collapsed": false
   }
  },
  {
   "cell_type": "code",
   "execution_count": 3,
   "outputs": [],
   "source": [
    "ecg_columns = [col for col in data.columns if 'ECG' in col or 'HRV' in col]\n",
    "\n",
    "ecg_data_train = data_train[ecg_columns]\n",
    "ecg_data_test = data_test[ecg_columns]"
   ],
   "metadata": {
    "collapsed": false,
    "ExecuteTime": {
     "start_time": "2023-06-13T22:39:55.438771Z",
     "end_time": "2023-06-13T22:39:55.454846Z"
    }
   }
  },
  {
   "cell_type": "markdown",
   "source": [
    "Define the model and train it"
   ],
   "metadata": {
    "collapsed": false
   }
  },
  {
   "cell_type": "code",
   "execution_count": 4,
   "outputs": [],
   "source": [
    "ecg_rfc = RandomForestClassifier(\n",
    "    n_estimators=1000,\n",
    "    criterion='gini',\n",
    "    max_depth=None,\n",
    "    min_samples_split=2,\n",
    "    min_samples_leaf=1,\n",
    "    max_features='sqrt',\n",
    "    random_state=0\n",
    ")"
   ],
   "metadata": {
    "collapsed": false,
    "ExecuteTime": {
     "start_time": "2023-06-13T22:39:59.736038Z",
     "end_time": "2023-06-13T22:39:59.747724Z"
    }
   }
  },
  {
   "cell_type": "code",
   "execution_count": 5,
   "outputs": [],
   "source": [
    "ecg_rfc.fit(ecg_data_train, labels_train)\n",
    "ecg_predictions = ecg_rfc.predict(ecg_data_test)"
   ],
   "metadata": {
    "collapsed": false,
    "ExecuteTime": {
     "start_time": "2023-06-13T22:40:00.624541Z",
     "end_time": "2023-06-13T22:41:01.091165Z"
    }
   }
  },
  {
   "cell_type": "code",
   "execution_count": 6,
   "outputs": [
    {
     "name": "stdout",
     "output_type": "stream",
     "text": [
      "              precision    recall  f1-score   support\n",
      "\n",
      "  Ekscytacja     0.1818    0.0522    0.0811       115\n",
      "   Neutralna     0.3050    0.6397    0.4131       247\n",
      "  Odprezenie     0.3231    0.1273    0.1826       165\n",
      "      Radosc     0.2165    0.1313    0.1634       160\n",
      "      Smutek     0.2424    0.1060    0.1475       151\n",
      "       Zlosc     0.2662    0.3379    0.2978       219\n",
      "\n",
      "    accuracy                         0.2800      1057\n",
      "   macro avg     0.2558    0.2324    0.2142      1057\n",
      "weighted avg     0.2640    0.2800    0.2414      1057\n",
      "\n"
     ]
    }
   ],
   "source": [
    "ecg_cr = classification_report(labels_test, ecg_predictions, target_names=unique_labels, zero_division=0, digits=4, output_dict=True)\n",
    "print(classification_report(labels_test, ecg_predictions, target_names=unique_labels, zero_division=0, digits=4))"
   ],
   "metadata": {
    "collapsed": false,
    "ExecuteTime": {
     "start_time": "2023-06-13T22:41:01.090799Z",
     "end_time": "2023-06-13T22:41:01.154919Z"
    }
   }
  },
  {
   "cell_type": "markdown",
   "source": [
    "# EDA"
   ],
   "metadata": {
    "collapsed": false
   }
  },
  {
   "cell_type": "markdown",
   "source": [
    "Extract only ecg related features"
   ],
   "metadata": {
    "collapsed": false
   }
  },
  {
   "cell_type": "code",
   "execution_count": 7,
   "outputs": [],
   "source": [
    "eda_columns = [col for col in data.columns if 'EDA' in col or 'SCR' in col]\n",
    "\n",
    "eda_data_train = data_train[eda_columns]\n",
    "eda_data_test = data_test[eda_columns]"
   ],
   "metadata": {
    "collapsed": false,
    "ExecuteTime": {
     "start_time": "2023-06-13T22:41:01.160127Z",
     "end_time": "2023-06-13T22:41:01.204588Z"
    }
   }
  },
  {
   "cell_type": "markdown",
   "source": [
    "Define the model and train it"
   ],
   "metadata": {
    "collapsed": false
   }
  },
  {
   "cell_type": "code",
   "execution_count": 8,
   "outputs": [],
   "source": [
    "eda_rfc = RandomForestClassifier(\n",
    "    n_estimators=1000,\n",
    "    criterion='gini',\n",
    "    max_depth=None,\n",
    "    min_samples_split=2,\n",
    "    min_samples_leaf=1,\n",
    "    max_features='sqrt',\n",
    "    random_state=0\n",
    ")"
   ],
   "metadata": {
    "collapsed": false,
    "ExecuteTime": {
     "start_time": "2023-06-13T22:41:01.200935Z",
     "end_time": "2023-06-13T22:41:01.204851Z"
    }
   }
  },
  {
   "cell_type": "code",
   "execution_count": 9,
   "outputs": [],
   "source": [
    "eda_rfc.fit(eda_data_train, labels_train)\n",
    "eda_predictions = eda_rfc.predict(eda_data_test)"
   ],
   "metadata": {
    "collapsed": false,
    "ExecuteTime": {
     "start_time": "2023-06-13T22:41:01.201270Z",
     "end_time": "2023-06-13T22:41:36.174797Z"
    }
   }
  },
  {
   "cell_type": "code",
   "execution_count": 10,
   "outputs": [
    {
     "name": "stdout",
     "output_type": "stream",
     "text": [
      "              precision    recall  f1-score   support\n",
      "\n",
      "  Ekscytacja     0.1529    0.1130    0.1300       115\n",
      "   Neutralna     0.3844    0.5992    0.4684       247\n",
      "  Odprezenie     0.2475    0.1515    0.1880       165\n",
      "      Radosc     0.1565    0.1437    0.1498       160\n",
      "      Smutek     0.1939    0.1258    0.1526       151\n",
      "       Zlosc     0.2822    0.3105    0.2957       219\n",
      "\n",
      "    accuracy                         0.2800      1057\n",
      "   macro avg     0.2362    0.2406    0.2307      1057\n",
      "weighted avg     0.2550    0.2800    0.2587      1057\n",
      "\n"
     ]
    }
   ],
   "source": [
    "eda_cr = classification_report(labels_test, eda_predictions, target_names=unique_labels, zero_division=0, digits=4, output_dict=True)\n",
    "print(classification_report(labels_test, eda_predictions, target_names=unique_labels, zero_division=0, digits=4))"
   ],
   "metadata": {
    "collapsed": false,
    "ExecuteTime": {
     "start_time": "2023-06-13T22:41:36.217180Z",
     "end_time": "2023-06-13T22:41:36.236935Z"
    }
   }
  },
  {
   "cell_type": "markdown",
   "source": [
    "# Combined"
   ],
   "metadata": {
    "collapsed": false
   }
  },
  {
   "cell_type": "code",
   "execution_count": 11,
   "outputs": [],
   "source": [
    "rfc = RandomForestClassifier(\n",
    "    n_estimators=1000,\n",
    "    criterion='gini',\n",
    "    max_depth=None,\n",
    "    min_samples_split=2,\n",
    "    min_samples_leaf=1,\n",
    "    max_features='sqrt',\n",
    "    random_state=0\n",
    ")"
   ],
   "metadata": {
    "collapsed": false,
    "ExecuteTime": {
     "start_time": "2023-06-13T22:41:36.236094Z",
     "end_time": "2023-06-13T22:41:36.282435Z"
    }
   }
  },
  {
   "cell_type": "code",
   "execution_count": 12,
   "outputs": [],
   "source": [
    "rfc.fit(data_train, labels_train)\n",
    "predictions = rfc.predict(data_test)"
   ],
   "metadata": {
    "collapsed": false,
    "ExecuteTime": {
     "start_time": "2023-06-13T22:41:36.277289Z",
     "end_time": "2023-06-13T22:42:58.915257Z"
    }
   }
  },
  {
   "cell_type": "code",
   "execution_count": 13,
   "outputs": [
    {
     "name": "stdout",
     "output_type": "stream",
     "text": [
      "              precision    recall  f1-score   support\n",
      "\n",
      "  Ekscytacja     0.1493    0.0870    0.1099       115\n",
      "   Neutralna     0.3841    0.6640    0.4866       247\n",
      "  Odprezenie     0.3188    0.1333    0.1880       165\n",
      "      Radosc     0.1571    0.1375    0.1467       160\n",
      "      Smutek     0.2222    0.1060    0.1435       151\n",
      "       Zlosc     0.2695    0.3470    0.3034       219\n",
      "\n",
      "    accuracy                         0.2933      1057\n",
      "   macro avg     0.2502    0.2458    0.2297      1057\n",
      "weighted avg     0.2671    0.2933    0.2606      1057\n",
      "\n"
     ]
    }
   ],
   "source": [
    "cr = classification_report(labels_test, predictions, target_names=unique_labels, zero_division=0, digits=4, output_dict=True)\n",
    "print(classification_report(labels_test, predictions, target_names=unique_labels, zero_division=0, digits=4))"
   ],
   "metadata": {
    "collapsed": false,
    "ExecuteTime": {
     "start_time": "2023-06-13T22:42:58.933383Z",
     "end_time": "2023-06-13T22:42:58.989842Z"
    }
   }
  },
  {
   "cell_type": "markdown",
   "source": [
    "# Summary"
   ],
   "metadata": {
    "collapsed": false
   }
  },
  {
   "cell_type": "code",
   "execution_count": 14,
   "outputs": [
    {
     "name": "stdout",
     "output_type": "stream",
     "text": [
      "\n",
      "\tAccuracy:\n",
      "ECG:\t0.2800378429517502\n",
      "EDA:\t0.2800378429517502\n",
      "Both:\t0.293282876064333\n",
      "\tAverage F1:\n",
      "ECG:\t0.21423965913027673\n",
      "EDA:\t0.23073735073706292\n",
      "Both:\t0.22968813671405827\n",
      "\tWeighted F1:\n",
      "ECG:\t0.24135662256910165\n",
      "EDA:\t0.2586703179372227\n",
      "Both:\t0.2605891447043834\n",
      "\n"
     ]
    }
   ],
   "source": [
    "print(f'''\n",
    "\\tAccuracy:\n",
    "ECG:\\t{ecg_cr['accuracy']}\n",
    "EDA:\\t{eda_cr['accuracy']}\n",
    "Both:\\t{cr['accuracy']}\n",
    "\\tAverage F1:\n",
    "ECG:\\t{ecg_cr['macro avg']['f1-score']}\n",
    "EDA:\\t{eda_cr['macro avg']['f1-score']}\n",
    "Both:\\t{cr['macro avg']['f1-score']}\n",
    "\\tWeighted F1:\n",
    "ECG:\\t{ecg_cr['weighted avg']['f1-score']}\n",
    "EDA:\\t{eda_cr['weighted avg']['f1-score']}\n",
    "Both:\\t{cr['weighted avg']['f1-score']}\n",
    "''')"
   ],
   "metadata": {
    "collapsed": false,
    "ExecuteTime": {
     "start_time": "2023-06-13T22:42:58.991641Z",
     "end_time": "2023-06-13T22:42:58.999058Z"
    }
   }
  },
  {
   "cell_type": "code",
   "execution_count": 14,
   "outputs": [],
   "source": [],
   "metadata": {
    "collapsed": false,
    "ExecuteTime": {
     "start_time": "2023-06-13T22:42:58.995896Z",
     "end_time": "2023-06-13T22:42:59.000388Z"
    }
   }
  }
 ],
 "metadata": {
  "kernelspec": {
   "display_name": "Python 3",
   "language": "python",
   "name": "python3"
  },
  "language_info": {
   "codemirror_mode": {
    "name": "ipython",
    "version": 2
   },
   "file_extension": ".py",
   "mimetype": "text/x-python",
   "name": "python",
   "nbconvert_exporter": "python",
   "pygments_lexer": "ipython2",
   "version": "2.7.6"
  }
 },
 "nbformat": 4,
 "nbformat_minor": 0
}
