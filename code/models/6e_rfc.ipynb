{
 "cells": [
  {
   "cell_type": "markdown",
   "source": [
    "# Random forest 6 emotions"
   ],
   "metadata": {
    "collapsed": false
   }
  },
  {
   "cell_type": "code",
   "execution_count": 1,
   "metadata": {
    "collapsed": true,
    "ExecuteTime": {
     "start_time": "2023-06-19T17:05:15.233508Z",
     "end_time": "2023-06-19T17:05:15.960191Z"
    }
   },
   "outputs": [],
   "source": [
    "import pandas as pd\n",
    "import numpy as np\n",
    "from sklearn.metrics import classification_report\n",
    "from sklearn.preprocessing import StandardScaler\n",
    "from sklearn.model_selection import train_test_split\n",
    "from sklearn.ensemble import RandomForestClassifier"
   ]
  },
  {
   "cell_type": "markdown",
   "source": [
    "Load data and scale it\n",
    "Remove highly correlated features\n",
    "Create train and test splits"
   ],
   "metadata": {
    "collapsed": false
   }
  },
  {
   "cell_type": "code",
   "execution_count": 2,
   "outputs": [],
   "source": [
    "# data loading\n",
    "dataset = pd.read_csv('../dataset/labeled_6_combined_dataset.csv', index_col=0)\n",
    "\n",
    "data = dataset.iloc[:, :-4]\n",
    "labels = dataset.iloc[:, -1]\n",
    "unique_labels = np.unique(labels)\n",
    "\n",
    "# scaling the data\n",
    "data_scaled = StandardScaler().fit_transform(data)\n",
    "data_scaled = pd.DataFrame(data_scaled, columns=data.columns)\n",
    "\n",
    "# creating train and test splits\n",
    "data_train, data_test, labels_train, labels_test = train_test_split(data_scaled, labels, test_size=0.1, random_state=0)"
   ],
   "metadata": {
    "collapsed": false,
    "ExecuteTime": {
     "start_time": "2023-06-19T17:05:15.964283Z",
     "end_time": "2023-06-19T17:05:16.079490Z"
    }
   }
  },
  {
   "cell_type": "markdown",
   "source": [
    "# ECG"
   ],
   "metadata": {
    "collapsed": false
   }
  },
  {
   "cell_type": "markdown",
   "source": [
    "Extract only ecg related features"
   ],
   "metadata": {
    "collapsed": false
   }
  },
  {
   "cell_type": "code",
   "execution_count": 3,
   "outputs": [],
   "source": [
    "ecg_columns = [col for col in data.columns if 'ECG' in col or 'HRV' in col]\n",
    "\n",
    "ecg_data_train = data_train[ecg_columns]\n",
    "ecg_data_test = data_test[ecg_columns]"
   ],
   "metadata": {
    "collapsed": false,
    "ExecuteTime": {
     "start_time": "2023-06-19T17:05:16.086788Z",
     "end_time": "2023-06-19T17:05:16.088125Z"
    }
   }
  },
  {
   "cell_type": "markdown",
   "source": [
    "Define the model and train it"
   ],
   "metadata": {
    "collapsed": false
   }
  },
  {
   "cell_type": "code",
   "execution_count": 4,
   "outputs": [],
   "source": [
    "ecg_rfc = RandomForestClassifier(\n",
    "    n_estimators=1000,\n",
    "    criterion='gini',\n",
    "    max_depth=None,\n",
    "    min_samples_split=2,\n",
    "    min_samples_leaf=1,\n",
    "    max_features='sqrt',\n",
    "    random_state=0\n",
    ")"
   ],
   "metadata": {
    "collapsed": false,
    "ExecuteTime": {
     "start_time": "2023-06-19T17:05:16.092393Z",
     "end_time": "2023-06-19T17:05:16.092767Z"
    }
   }
  },
  {
   "cell_type": "code",
   "execution_count": 5,
   "outputs": [],
   "source": [
    "ecg_rfc.fit(ecg_data_train, labels_train)\n",
    "ecg_predictions = ecg_rfc.predict(ecg_data_test)"
   ],
   "metadata": {
    "collapsed": false,
    "ExecuteTime": {
     "start_time": "2023-06-19T17:05:16.098612Z",
     "end_time": "2023-06-19T17:06:21.208160Z"
    }
   }
  },
  {
   "cell_type": "code",
   "execution_count": 6,
   "outputs": [
    {
     "name": "stdout",
     "output_type": "stream",
     "text": [
      "              precision    recall  f1-score   support\n",
      "\n",
      "  Ekscytacja     0.1667    0.0609    0.0892       115\n",
      "   Neutralna     0.3111    0.6235    0.4151       247\n",
      "  Odprezenie     0.2941    0.1212    0.1717       165\n",
      "      Radosc     0.2121    0.1313    0.1622       160\n",
      "      Smutek     0.1972    0.0927    0.1261       151\n",
      "       Zlosc     0.2695    0.3470    0.3034       219\n",
      "\n",
      "    accuracy                         0.2763      1057\n",
      "   macro avg     0.2418    0.2294    0.2113      1057\n",
      "weighted avg     0.2529    0.2763    0.2389      1057\n",
      "\n"
     ]
    }
   ],
   "source": [
    "ecg_cr = classification_report(labels_test, ecg_predictions, target_names=unique_labels, zero_division=0, digits=4, output_dict=True)\n",
    "print(classification_report(labels_test, ecg_predictions, target_names=unique_labels, zero_division=0, digits=4))"
   ],
   "metadata": {
    "collapsed": false,
    "ExecuteTime": {
     "start_time": "2023-06-19T17:06:21.248236Z",
     "end_time": "2023-06-19T17:06:21.262534Z"
    }
   }
  },
  {
   "cell_type": "markdown",
   "source": [
    "# EDA"
   ],
   "metadata": {
    "collapsed": false
   }
  },
  {
   "cell_type": "markdown",
   "source": [
    "Extract only ecg related features"
   ],
   "metadata": {
    "collapsed": false
   }
  },
  {
   "cell_type": "code",
   "execution_count": 7,
   "outputs": [],
   "source": [
    "eda_columns = [col for col in data.columns if 'EDA' in col or 'SCR' in col]\n",
    "\n",
    "eda_data_train = data_train[eda_columns]\n",
    "eda_data_test = data_test[eda_columns]"
   ],
   "metadata": {
    "collapsed": false,
    "ExecuteTime": {
     "start_time": "2023-06-19T17:06:21.267521Z",
     "end_time": "2023-06-19T17:06:21.268779Z"
    }
   }
  },
  {
   "cell_type": "markdown",
   "source": [
    "Define the model and train it"
   ],
   "metadata": {
    "collapsed": false
   }
  },
  {
   "cell_type": "code",
   "execution_count": 8,
   "outputs": [],
   "source": [
    "eda_rfc = RandomForestClassifier(\n",
    "    n_estimators=1000,\n",
    "    criterion='gini',\n",
    "    max_depth=None,\n",
    "    min_samples_split=2,\n",
    "    min_samples_leaf=1,\n",
    "    max_features='sqrt',\n",
    "    random_state=0\n",
    ")"
   ],
   "metadata": {
    "collapsed": false,
    "ExecuteTime": {
     "start_time": "2023-06-19T17:06:21.270399Z",
     "end_time": "2023-06-19T17:06:21.275778Z"
    }
   }
  },
  {
   "cell_type": "code",
   "execution_count": 9,
   "outputs": [],
   "source": [
    "eda_rfc.fit(eda_data_train, labels_train)\n",
    "eda_predictions = eda_rfc.predict(eda_data_test)"
   ],
   "metadata": {
    "collapsed": false,
    "ExecuteTime": {
     "start_time": "2023-06-19T17:06:21.278289Z",
     "end_time": "2023-06-19T17:06:53.043590Z"
    }
   }
  },
  {
   "cell_type": "code",
   "execution_count": 10,
   "outputs": [
    {
     "name": "stdout",
     "output_type": "stream",
     "text": [
      "              precision    recall  f1-score   support\n",
      "\n",
      "  Ekscytacja     0.1429    0.1043    0.1206       115\n",
      "   Neutralna     0.3901    0.6032    0.4738       247\n",
      "  Odprezenie     0.2475    0.1515    0.1880       165\n",
      "      Radosc     0.1793    0.1625    0.1705       160\n",
      "      Smutek     0.2079    0.1391    0.1667       151\n",
      "       Zlosc     0.2951    0.3288    0.3110       219\n",
      "\n",
      "    accuracy                         0.2886      1057\n",
      "   macro avg     0.2438    0.2482    0.2384      1057\n",
      "weighted avg     0.2633    0.2886    0.2672      1057\n",
      "\n"
     ]
    }
   ],
   "source": [
    "eda_cr = classification_report(labels_test, eda_predictions, target_names=unique_labels, zero_division=0, digits=4, output_dict=True)\n",
    "print(classification_report(labels_test, eda_predictions, target_names=unique_labels, zero_division=0, digits=4))"
   ],
   "metadata": {
    "collapsed": false,
    "ExecuteTime": {
     "start_time": "2023-06-19T17:06:53.088225Z",
     "end_time": "2023-06-19T17:06:53.098176Z"
    }
   }
  },
  {
   "cell_type": "markdown",
   "source": [
    "# Combined"
   ],
   "metadata": {
    "collapsed": false
   }
  },
  {
   "cell_type": "code",
   "execution_count": 11,
   "outputs": [],
   "source": [
    "rfc = RandomForestClassifier(\n",
    "    n_estimators=1000,\n",
    "    criterion='gini',\n",
    "    max_depth=None,\n",
    "    min_samples_split=2,\n",
    "    min_samples_leaf=1,\n",
    "    max_features='sqrt',\n",
    "    random_state=0\n",
    ")"
   ],
   "metadata": {
    "collapsed": false,
    "ExecuteTime": {
     "start_time": "2023-06-19T17:06:53.101968Z",
     "end_time": "2023-06-19T17:06:53.106559Z"
    }
   }
  },
  {
   "cell_type": "code",
   "execution_count": 12,
   "outputs": [],
   "source": [
    "rfc.fit(data_train, labels_train)\n",
    "predictions = rfc.predict(data_test)"
   ],
   "metadata": {
    "collapsed": false,
    "ExecuteTime": {
     "start_time": "2023-06-19T17:06:53.111523Z",
     "end_time": "2023-06-19T17:08:01.575682Z"
    }
   }
  },
  {
   "cell_type": "code",
   "execution_count": 13,
   "outputs": [
    {
     "name": "stdout",
     "output_type": "stream",
     "text": [
      "              precision    recall  f1-score   support\n",
      "\n",
      "  Ekscytacja     0.1493    0.0870    0.1099       115\n",
      "   Neutralna     0.3841    0.6640    0.4866       247\n",
      "  Odprezenie     0.3188    0.1333    0.1880       165\n",
      "      Radosc     0.1571    0.1375    0.1467       160\n",
      "      Smutek     0.2222    0.1060    0.1435       151\n",
      "       Zlosc     0.2695    0.3470    0.3034       219\n",
      "\n",
      "    accuracy                         0.2933      1057\n",
      "   macro avg     0.2502    0.2458    0.2297      1057\n",
      "weighted avg     0.2671    0.2933    0.2606      1057\n",
      "\n"
     ]
    }
   ],
   "source": [
    "cr = classification_report(labels_test, predictions, target_names=unique_labels, zero_division=0, digits=4, output_dict=True)\n",
    "print(classification_report(labels_test, predictions, target_names=unique_labels, zero_division=0, digits=4))"
   ],
   "metadata": {
    "collapsed": false,
    "ExecuteTime": {
     "start_time": "2023-06-19T17:08:01.616118Z",
     "end_time": "2023-06-19T17:08:01.631788Z"
    }
   }
  },
  {
   "cell_type": "markdown",
   "source": [
    "# Summary"
   ],
   "metadata": {
    "collapsed": false
   }
  },
  {
   "cell_type": "code",
   "execution_count": 14,
   "outputs": [
    {
     "name": "stdout",
     "output_type": "stream",
     "text": [
      "\n",
      "  Accuracy:\n",
      "ECG:\t0.2763\n",
      "EDA:\t0.2886\n",
      "Both:\t0.2933\n",
      "  Average F1:\n",
      "ECG:\t0.2113\n",
      "EDA:\t0.2384\n",
      "Both:\t0.2297\n",
      "  Weighted F1:\n",
      "ECG:\t0.2389\n",
      "EDA:\t0.2672\n",
      "Both:\t0.2606\n",
      "\n"
     ]
    }
   ],
   "source": [
    "print(f'''\n",
    "  Accuracy:\n",
    "ECG:\\t{ecg_cr['accuracy']:.4f}\n",
    "EDA:\\t{eda_cr['accuracy']:.4f}\n",
    "Both:\\t{cr['accuracy']:.4f}\n",
    "  Average F1:\n",
    "ECG:\\t{ecg_cr['macro avg']['f1-score']:.4f}\n",
    "EDA:\\t{eda_cr['macro avg']['f1-score']:.4f}\n",
    "Both:\\t{cr['macro avg']['f1-score']:.4f}\n",
    "  Weighted F1:\n",
    "ECG:\\t{ecg_cr['weighted avg']['f1-score']:.4f}\n",
    "EDA:\\t{eda_cr['weighted avg']['f1-score']:.4f}\n",
    "Both:\\t{cr['weighted avg']['f1-score']:.4f}\n",
    "''')"
   ],
   "metadata": {
    "collapsed": false,
    "ExecuteTime": {
     "start_time": "2023-06-19T17:08:01.636524Z",
     "end_time": "2023-06-19T17:08:01.639686Z"
    }
   }
  },
  {
   "cell_type": "code",
   "execution_count": 14,
   "outputs": [],
   "source": [],
   "metadata": {
    "collapsed": false,
    "ExecuteTime": {
     "start_time": "2023-06-19T17:08:01.640290Z",
     "end_time": "2023-06-19T17:08:01.644443Z"
    }
   }
  }
 ],
 "metadata": {
  "kernelspec": {
   "display_name": "Python 3",
   "language": "python",
   "name": "python3"
  },
  "language_info": {
   "codemirror_mode": {
    "name": "ipython",
    "version": 2
   },
   "file_extension": ".py",
   "mimetype": "text/x-python",
   "name": "python",
   "nbconvert_exporter": "python",
   "pygments_lexer": "ipython2",
   "version": "2.7.6"
  }
 },
 "nbformat": 4,
 "nbformat_minor": 0
}
