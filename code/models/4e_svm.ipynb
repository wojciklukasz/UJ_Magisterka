{
 "cells": [
  {
   "cell_type": "markdown",
   "source": [
    "# SVM 4 emotions"
   ],
   "metadata": {
    "collapsed": false
   }
  },
  {
   "cell_type": "code",
   "execution_count": 1,
   "metadata": {
    "collapsed": true,
    "ExecuteTime": {
     "start_time": "2023-06-13T22:28:54.544024Z",
     "end_time": "2023-06-13T22:28:55.577585Z"
    }
   },
   "outputs": [],
   "source": [
    "import pandas as pd\n",
    "import numpy as np\n",
    "from sklearn.metrics import classification_report\n",
    "from sklearn.preprocessing import StandardScaler\n",
    "from sklearn.model_selection import train_test_split\n",
    "from sklearn.svm import SVC"
   ]
  },
  {
   "cell_type": "markdown",
   "source": [
    "Load data and scale it\n",
    "Remove highly correlated features\n",
    "Create train and test splits"
   ],
   "metadata": {
    "collapsed": false
   }
  },
  {
   "cell_type": "code",
   "execution_count": 2,
   "outputs": [],
   "source": [
    "# data loading\n",
    "dataset = pd.read_csv('../dataset/labeled_4_combined_dataset.csv', index_col=0)\n",
    "\n",
    "data = dataset.iloc[:, :-4]\n",
    "labels = dataset.iloc[:, -1]\n",
    "unique_labels = np.unique(labels)\n",
    "\n",
    "# scaling the data\n",
    "data_scaled = StandardScaler().fit_transform(data)\n",
    "data_scaled = pd.DataFrame(data_scaled, columns=data.columns)\n",
    "\n",
    "# removing correlated features\n",
    "corr = data.corr().abs()\n",
    "upper = corr.where(np.triu(np.ones(corr.shape), k=1).astype(bool))\n",
    "to_drop = [column for column in upper.columns if any(upper[column] > 0.95)]\n",
    "data.drop(to_drop, axis=1, inplace=True)\n",
    "\n",
    "# creating train and test splits\n",
    "data_train, data_test, labels_train, labels_test = train_test_split(data_scaled, labels, test_size=0.1, random_state=0)"
   ],
   "metadata": {
    "collapsed": false,
    "ExecuteTime": {
     "start_time": "2023-06-13T22:28:56.871902Z",
     "end_time": "2023-06-13T22:28:57.311097Z"
    }
   }
  },
  {
   "cell_type": "markdown",
   "source": [
    "# ECG"
   ],
   "metadata": {
    "collapsed": false
   }
  },
  {
   "cell_type": "markdown",
   "source": [
    "Extract only ecg related features"
   ],
   "metadata": {
    "collapsed": false
   }
  },
  {
   "cell_type": "code",
   "execution_count": 3,
   "outputs": [],
   "source": [
    "ecg_columns = [col for col in data.columns if 'ECG' in col or 'HRV' in col]\n",
    "\n",
    "ecg_data_train = data_train[ecg_columns]\n",
    "ecg_data_test = data_test[ecg_columns]"
   ],
   "metadata": {
    "collapsed": false,
    "ExecuteTime": {
     "start_time": "2023-06-13T22:28:58.487269Z",
     "end_time": "2023-06-13T22:28:58.534713Z"
    }
   }
  },
  {
   "cell_type": "markdown",
   "source": [
    "Define the model and train it"
   ],
   "metadata": {
    "collapsed": false
   }
  },
  {
   "cell_type": "code",
   "execution_count": 4,
   "outputs": [],
   "source": [
    "ecg_svc = SVC(\n",
    "    C=1.0,\n",
    "    kernel='rbf',\n",
    "    gamma=0.001,\n",
    "    max_iter=-1,\n",
    "    decision_function_shape='ovr'\n",
    ")"
   ],
   "metadata": {
    "collapsed": false,
    "ExecuteTime": {
     "start_time": "2023-06-13T22:28:59.518557Z",
     "end_time": "2023-06-13T22:28:59.526799Z"
    }
   }
  },
  {
   "cell_type": "code",
   "execution_count": 5,
   "outputs": [],
   "source": [
    "ecg_svc.fit(ecg_data_train, labels_train)\n",
    "ecg_predictions = ecg_svc.predict(ecg_data_test)"
   ],
   "metadata": {
    "collapsed": false,
    "ExecuteTime": {
     "start_time": "2023-06-13T22:29:00.141559Z",
     "end_time": "2023-06-13T22:29:11.974630Z"
    }
   }
  },
  {
   "cell_type": "code",
   "execution_count": 6,
   "outputs": [
    {
     "name": "stdout",
     "output_type": "stream",
     "text": [
      "              precision    recall  f1-score   support\n",
      "\n",
      "  Ekscytacja     0.3750    0.0101    0.0196       298\n",
      "  Odprezenie     0.0000    0.0000    0.0000       193\n",
      "      Smutek     0.3108    0.9909    0.4731       329\n",
      "       Zlosc     0.0000    0.0000    0.0000       237\n",
      "\n",
      "    accuracy                         0.3113      1057\n",
      "   macro avg     0.1714    0.2502    0.1232      1057\n",
      "weighted avg     0.2025    0.3113    0.1528      1057\n",
      "\n"
     ]
    }
   ],
   "source": [
    "ecg_cr = classification_report(labels_test, ecg_predictions, target_names=unique_labels, zero_division=0, digits=4, output_dict=True)\n",
    "print(classification_report(labels_test, ecg_predictions, target_names=unique_labels, zero_division=0, digits=4))"
   ],
   "metadata": {
    "collapsed": false,
    "ExecuteTime": {
     "start_time": "2023-06-13T22:29:12.019386Z",
     "end_time": "2023-06-13T22:29:12.128444Z"
    }
   }
  },
  {
   "cell_type": "markdown",
   "source": [
    "# EDA"
   ],
   "metadata": {
    "collapsed": false
   }
  },
  {
   "cell_type": "markdown",
   "source": [
    "Extract only ecg related features"
   ],
   "metadata": {
    "collapsed": false
   }
  },
  {
   "cell_type": "code",
   "execution_count": 7,
   "outputs": [],
   "source": [
    "eda_columns = [col for col in data.columns if 'EDA' in col or 'SCR' in col]\n",
    "\n",
    "eda_data_train = data_train[eda_columns]\n",
    "eda_data_test = data_test[eda_columns]"
   ],
   "metadata": {
    "collapsed": false,
    "ExecuteTime": {
     "start_time": "2023-06-13T22:29:12.093224Z",
     "end_time": "2023-06-13T22:29:12.141417Z"
    }
   }
  },
  {
   "cell_type": "markdown",
   "source": [
    "Define the model and train it"
   ],
   "metadata": {
    "collapsed": false
   }
  },
  {
   "cell_type": "code",
   "execution_count": 8,
   "outputs": [],
   "source": [
    "eda_svc = SVC(\n",
    "    C=1.0,\n",
    "    kernel='rbf',\n",
    "    gamma=0.001,\n",
    "    max_iter=-1,\n",
    "    decision_function_shape='ovr'\n",
    ")"
   ],
   "metadata": {
    "collapsed": false,
    "ExecuteTime": {
     "start_time": "2023-06-13T22:29:12.093336Z",
     "end_time": "2023-06-13T22:29:12.142706Z"
    }
   }
  },
  {
   "cell_type": "code",
   "execution_count": 9,
   "outputs": [],
   "source": [
    "eda_svc.fit(eda_data_train, labels_train)\n",
    "eda_predictions = eda_svc.predict(eda_data_test)"
   ],
   "metadata": {
    "collapsed": false,
    "ExecuteTime": {
     "start_time": "2023-06-13T22:29:12.093452Z",
     "end_time": "2023-06-13T22:29:19.429006Z"
    }
   }
  },
  {
   "cell_type": "code",
   "execution_count": 10,
   "outputs": [
    {
     "name": "stdout",
     "output_type": "stream",
     "text": [
      "              precision    recall  f1-score   support\n",
      "\n",
      "  Ekscytacja     0.0000    0.0000    0.0000       298\n",
      "  Odprezenie     0.0000    0.0000    0.0000       193\n",
      "      Smutek     0.3113    1.0000    0.4747       329\n",
      "       Zlosc     0.0000    0.0000    0.0000       237\n",
      "\n",
      "    accuracy                         0.3113      1057\n",
      "   macro avg     0.0778    0.2500    0.1187      1057\n",
      "weighted avg     0.0969    0.3113    0.1478      1057\n",
      "\n"
     ]
    }
   ],
   "source": [
    "eda_cr = classification_report(labels_test, eda_predictions, target_names=unique_labels, zero_division=0, digits=4, output_dict=True)\n",
    "print(classification_report(labels_test, eda_predictions, target_names=unique_labels, zero_division=0, digits=4))"
   ],
   "metadata": {
    "collapsed": false,
    "ExecuteTime": {
     "start_time": "2023-06-13T22:29:19.431018Z",
     "end_time": "2023-06-13T22:29:19.552933Z"
    }
   }
  },
  {
   "cell_type": "markdown",
   "source": [
    "# Combined"
   ],
   "metadata": {
    "collapsed": false
   }
  },
  {
   "cell_type": "code",
   "execution_count": 11,
   "outputs": [],
   "source": [
    "svc = SVC(\n",
    "    C=1.0,\n",
    "    kernel='rbf',\n",
    "    gamma=0.001,\n",
    "    max_iter=-1,\n",
    "    decision_function_shape='ovr'\n",
    ")"
   ],
   "metadata": {
    "collapsed": false,
    "ExecuteTime": {
     "start_time": "2023-06-13T22:29:19.521051Z",
     "end_time": "2023-06-13T22:29:19.564500Z"
    }
   }
  },
  {
   "cell_type": "code",
   "execution_count": 12,
   "outputs": [],
   "source": [
    "svc.fit(data_train, labels_train)\n",
    "predictions = svc.predict(data_test)"
   ],
   "metadata": {
    "collapsed": false,
    "ExecuteTime": {
     "start_time": "2023-06-13T22:29:19.521618Z",
     "end_time": "2023-06-13T22:29:31.882940Z"
    }
   }
  },
  {
   "cell_type": "code",
   "execution_count": 13,
   "outputs": [
    {
     "name": "stdout",
     "output_type": "stream",
     "text": [
      "              precision    recall  f1-score   support\n",
      "\n",
      "  Ekscytacja     0.3333    0.0336    0.0610       298\n",
      "  Odprezenie     0.0000    0.0000    0.0000       193\n",
      "      Smutek     0.3116    0.9726    0.4720       329\n",
      "       Zlosc     0.0000    0.0000    0.0000       237\n",
      "\n",
      "    accuracy                         0.3122      1057\n",
      "   macro avg     0.1612    0.2516    0.1332      1057\n",
      "weighted avg     0.1910    0.3122    0.1641      1057\n",
      "\n"
     ]
    }
   ],
   "source": [
    "cr = classification_report(labels_test, predictions, target_names=unique_labels, zero_division=0, digits=4, output_dict=True)\n",
    "print(classification_report(labels_test, predictions, target_names=unique_labels, zero_division=0, digits=4))"
   ],
   "metadata": {
    "collapsed": false,
    "ExecuteTime": {
     "start_time": "2023-06-13T22:29:31.925544Z",
     "end_time": "2023-06-13T22:29:31.945913Z"
    }
   }
  },
  {
   "cell_type": "markdown",
   "source": [
    "# Summary"
   ],
   "metadata": {
    "collapsed": false
   }
  },
  {
   "cell_type": "code",
   "execution_count": 14,
   "outputs": [
    {
     "name": "stdout",
     "output_type": "stream",
     "text": [
      "\n",
      "\tAccuracy:\n",
      "ECG:\t0.31125827814569534\n",
      "EDA:\t0.31125827814569534\n",
      "Both:\t0.3122043519394513\n",
      "\tAverage F1:\n",
      "ECG:\t0.12318933378866787\n",
      "EDA:\t0.11868686868686867\n",
      "Both:\t0.13323800273400965\n",
      "\tWeighted F1:\n",
      "ECG:\t0.15279973522103313\n",
      "EDA:\t0.14776908154391596\n",
      "Both:\t0.1640974150383327\n",
      "\n"
     ]
    }
   ],
   "source": [
    "print(f'''\n",
    "\\tAccuracy:\n",
    "ECG:\\t{ecg_cr['accuracy']}\n",
    "EDA:\\t{eda_cr['accuracy']}\n",
    "Both:\\t{cr['accuracy']}\n",
    "\\tAverage F1:\n",
    "ECG:\\t{ecg_cr['macro avg']['f1-score']}\n",
    "EDA:\\t{eda_cr['macro avg']['f1-score']}\n",
    "Both:\\t{cr['macro avg']['f1-score']}\n",
    "\\tWeighted F1:\n",
    "ECG:\\t{ecg_cr['weighted avg']['f1-score']}\n",
    "EDA:\\t{eda_cr['weighted avg']['f1-score']}\n",
    "Both:\\t{cr['weighted avg']['f1-score']}\n",
    "''')"
   ],
   "metadata": {
    "collapsed": false,
    "ExecuteTime": {
     "start_time": "2023-06-13T22:29:31.948812Z",
     "end_time": "2023-06-13T22:29:32.017515Z"
    }
   }
  },
  {
   "cell_type": "code",
   "execution_count": 14,
   "outputs": [],
   "source": [],
   "metadata": {
    "collapsed": false,
    "ExecuteTime": {
     "start_time": "2023-06-13T22:31:02.391897Z",
     "end_time": "2023-06-13T22:31:02.425797Z"
    }
   }
  }
 ],
 "metadata": {
  "kernelspec": {
   "display_name": "Python 3",
   "language": "python",
   "name": "python3"
  },
  "language_info": {
   "codemirror_mode": {
    "name": "ipython",
    "version": 2
   },
   "file_extension": ".py",
   "mimetype": "text/x-python",
   "name": "python",
   "nbconvert_exporter": "python",
   "pygments_lexer": "ipython2",
   "version": "2.7.6"
  }
 },
 "nbformat": 4,
 "nbformat_minor": 0
}
