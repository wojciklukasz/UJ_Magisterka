{
 "cells": [
  {
   "cell_type": "markdown",
   "source": [
    "# SVM 4 emotions"
   ],
   "metadata": {
    "collapsed": false
   }
  },
  {
   "cell_type": "code",
   "execution_count": 34,
   "metadata": {
    "collapsed": true,
    "ExecuteTime": {
     "start_time": "2023-06-19T16:55:05.210463Z",
     "end_time": "2023-06-19T16:55:05.266513Z"
    }
   },
   "outputs": [],
   "source": [
    "import pandas as pd\n",
    "import numpy as np\n",
    "from sklearn.metrics import classification_report\n",
    "from sklearn.preprocessing import StandardScaler\n",
    "from sklearn.model_selection import train_test_split\n",
    "from sklearn.svm import SVC"
   ]
  },
  {
   "cell_type": "markdown",
   "source": [
    "Load data and scale it\n",
    "Remove highly correlated features\n",
    "Create train and test splits"
   ],
   "metadata": {
    "collapsed": false
   }
  },
  {
   "cell_type": "code",
   "execution_count": 35,
   "outputs": [],
   "source": [
    "# data loading\n",
    "dataset = pd.read_csv('../dataset/labeled_4_combined_dataset.csv', index_col=0)\n",
    "\n",
    "data = dataset.iloc[:, :-4]\n",
    "labels = dataset.iloc[:, -1]\n",
    "unique_labels = np.unique(labels)\n",
    "\n",
    "# scaling the data\n",
    "data_scaled = StandardScaler().fit_transform(data)\n",
    "data_scaled = pd.DataFrame(data_scaled, columns=data.columns)\n",
    "\n",
    "# creating train and test splits\n",
    "data_train, data_test, labels_train, labels_test = train_test_split(data_scaled, labels, test_size=0.1, random_state=0)"
   ],
   "metadata": {
    "collapsed": false,
    "ExecuteTime": {
     "start_time": "2023-06-19T16:55:05.221357Z",
     "end_time": "2023-06-19T16:55:05.408324Z"
    }
   }
  },
  {
   "cell_type": "markdown",
   "source": [
    "# ECG"
   ],
   "metadata": {
    "collapsed": false
   }
  },
  {
   "cell_type": "markdown",
   "source": [
    "Extract only ecg related features"
   ],
   "metadata": {
    "collapsed": false
   }
  },
  {
   "cell_type": "code",
   "execution_count": 36,
   "outputs": [],
   "source": [
    "ecg_columns = [col for col in data.columns if 'ECG' in col or 'HRV' in col]\n",
    "\n",
    "ecg_data_train = data_train[ecg_columns]\n",
    "ecg_data_test = data_test[ecg_columns]"
   ],
   "metadata": {
    "collapsed": false,
    "ExecuteTime": {
     "start_time": "2023-06-19T16:55:05.408509Z",
     "end_time": "2023-06-19T16:55:05.409420Z"
    }
   }
  },
  {
   "cell_type": "markdown",
   "source": [
    "Define the model and train it"
   ],
   "metadata": {
    "collapsed": false
   }
  },
  {
   "cell_type": "code",
   "execution_count": 37,
   "outputs": [],
   "source": [
    "ecg_svc = SVC(\n",
    "    C=1.0,\n",
    "    kernel='rbf',\n",
    "    gamma=0.001,\n",
    "    max_iter=-1,\n",
    "    decision_function_shape='ovr'\n",
    ")"
   ],
   "metadata": {
    "collapsed": false,
    "ExecuteTime": {
     "start_time": "2023-06-19T16:55:05.408752Z",
     "end_time": "2023-06-19T16:55:05.409607Z"
    }
   }
  },
  {
   "cell_type": "code",
   "execution_count": 38,
   "outputs": [],
   "source": [
    "ecg_svc.fit(ecg_data_train, labels_train)\n",
    "ecg_predictions = ecg_svc.predict(ecg_data_test)"
   ],
   "metadata": {
    "collapsed": false,
    "ExecuteTime": {
     "start_time": "2023-06-19T16:55:05.408906Z",
     "end_time": "2023-06-19T16:55:13.715471Z"
    }
   }
  },
  {
   "cell_type": "code",
   "execution_count": 39,
   "outputs": [
    {
     "name": "stdout",
     "output_type": "stream",
     "text": [
      "              precision    recall  f1-score   support\n",
      "\n",
      "  Ekscytacja     0.2857    0.0134    0.0256       298\n",
      "  Odprezenie     0.0000    0.0000    0.0000       193\n",
      "      Smutek     0.3116    0.9878    0.4738       329\n",
      "       Zlosc     0.0000    0.0000    0.0000       237\n",
      "\n",
      "    accuracy                         0.3113      1057\n",
      "   macro avg     0.1493    0.2503    0.1249      1057\n",
      "weighted avg     0.1775    0.3113    0.1547      1057\n",
      "\n"
     ]
    }
   ],
   "source": [
    "ecg_cr = classification_report(labels_test, ecg_predictions, target_names=unique_labels, zero_division=0, digits=4, output_dict=True)\n",
    "print(classification_report(labels_test, ecg_predictions, target_names=unique_labels, zero_division=0, digits=4))"
   ],
   "metadata": {
    "collapsed": false,
    "ExecuteTime": {
     "start_time": "2023-06-19T16:55:13.756350Z",
     "end_time": "2023-06-19T16:55:13.769203Z"
    }
   }
  },
  {
   "cell_type": "markdown",
   "source": [
    "# EDA"
   ],
   "metadata": {
    "collapsed": false
   }
  },
  {
   "cell_type": "markdown",
   "source": [
    "Extract only ecg related features"
   ],
   "metadata": {
    "collapsed": false
   }
  },
  {
   "cell_type": "code",
   "execution_count": 40,
   "outputs": [],
   "source": [
    "eda_columns = [col for col in data.columns if 'EDA' in col or 'SCR' in col]\n",
    "\n",
    "eda_data_train = data_train[eda_columns]\n",
    "eda_data_test = data_test[eda_columns]"
   ],
   "metadata": {
    "collapsed": false,
    "ExecuteTime": {
     "start_time": "2023-06-19T16:55:13.773448Z",
     "end_time": "2023-06-19T16:55:13.777729Z"
    }
   }
  },
  {
   "cell_type": "markdown",
   "source": [
    "Define the model and train it"
   ],
   "metadata": {
    "collapsed": false
   }
  },
  {
   "cell_type": "code",
   "execution_count": 41,
   "outputs": [],
   "source": [
    "eda_svc = SVC(\n",
    "    C=1.0,\n",
    "    kernel='rbf',\n",
    "    gamma=0.001,\n",
    "    max_iter=-1,\n",
    "    decision_function_shape='ovr'\n",
    ")"
   ],
   "metadata": {
    "collapsed": false,
    "ExecuteTime": {
     "start_time": "2023-06-19T16:55:13.782001Z",
     "end_time": "2023-06-19T16:55:13.783096Z"
    }
   }
  },
  {
   "cell_type": "code",
   "execution_count": 42,
   "outputs": [],
   "source": [
    "eda_svc.fit(eda_data_train, labels_train)\n",
    "eda_predictions = eda_svc.predict(eda_data_test)"
   ],
   "metadata": {
    "collapsed": false,
    "ExecuteTime": {
     "start_time": "2023-06-19T16:55:13.795046Z",
     "end_time": "2023-06-19T16:55:19.600887Z"
    }
   }
  },
  {
   "cell_type": "code",
   "execution_count": 43,
   "outputs": [
    {
     "name": "stdout",
     "output_type": "stream",
     "text": [
      "              precision    recall  f1-score   support\n",
      "\n",
      "  Ekscytacja     0.0000    0.0000    0.0000       298\n",
      "  Odprezenie     0.0000    0.0000    0.0000       193\n",
      "      Smutek     0.3113    1.0000    0.4747       329\n",
      "       Zlosc     0.0000    0.0000    0.0000       237\n",
      "\n",
      "    accuracy                         0.3113      1057\n",
      "   macro avg     0.0778    0.2500    0.1187      1057\n",
      "weighted avg     0.0969    0.3113    0.1478      1057\n",
      "\n"
     ]
    }
   ],
   "source": [
    "eda_cr = classification_report(labels_test, eda_predictions, target_names=unique_labels, zero_division=0, digits=4, output_dict=True)\n",
    "print(classification_report(labels_test, eda_predictions, target_names=unique_labels, zero_division=0, digits=4))"
   ],
   "metadata": {
    "collapsed": false,
    "ExecuteTime": {
     "start_time": "2023-06-19T16:55:19.606289Z",
     "end_time": "2023-06-19T16:55:19.654226Z"
    }
   }
  },
  {
   "cell_type": "markdown",
   "source": [
    "# Combined"
   ],
   "metadata": {
    "collapsed": false
   }
  },
  {
   "cell_type": "code",
   "execution_count": 44,
   "outputs": [],
   "source": [
    "svc = SVC(\n",
    "    C=1.0,\n",
    "    kernel='rbf',\n",
    "    gamma=0.001,\n",
    "    max_iter=-1,\n",
    "    decision_function_shape='ovr'\n",
    ")"
   ],
   "metadata": {
    "collapsed": false,
    "ExecuteTime": {
     "start_time": "2023-06-19T16:55:19.657093Z",
     "end_time": "2023-06-19T16:55:19.661405Z"
    }
   }
  },
  {
   "cell_type": "code",
   "execution_count": 45,
   "outputs": [],
   "source": [
    "svc.fit(data_train, labels_train)\n",
    "predictions = svc.predict(data_test)"
   ],
   "metadata": {
    "collapsed": false,
    "ExecuteTime": {
     "start_time": "2023-06-19T16:55:19.660650Z",
     "end_time": "2023-06-19T16:55:28.282710Z"
    }
   }
  },
  {
   "cell_type": "code",
   "execution_count": 46,
   "outputs": [
    {
     "name": "stdout",
     "output_type": "stream",
     "text": [
      "              precision    recall  f1-score   support\n",
      "\n",
      "  Ekscytacja     0.3333    0.0336    0.0610       298\n",
      "  Odprezenie     0.0000    0.0000    0.0000       193\n",
      "      Smutek     0.3116    0.9726    0.4720       329\n",
      "       Zlosc     0.0000    0.0000    0.0000       237\n",
      "\n",
      "    accuracy                         0.3122      1057\n",
      "   macro avg     0.1612    0.2516    0.1332      1057\n",
      "weighted avg     0.1910    0.3122    0.1641      1057\n",
      "\n"
     ]
    }
   ],
   "source": [
    "cr = classification_report(labels_test, predictions, target_names=unique_labels, zero_division=0, digits=4, output_dict=True)\n",
    "print(classification_report(labels_test, predictions, target_names=unique_labels, zero_division=0, digits=4))"
   ],
   "metadata": {
    "collapsed": false,
    "ExecuteTime": {
     "start_time": "2023-06-19T16:55:28.288710Z",
     "end_time": "2023-06-19T16:55:28.337899Z"
    }
   }
  },
  {
   "cell_type": "markdown",
   "source": [
    "# Summary"
   ],
   "metadata": {
    "collapsed": false
   }
  },
  {
   "cell_type": "code",
   "execution_count": 47,
   "outputs": [
    {
     "name": "stdout",
     "output_type": "stream",
     "text": [
      "\n",
      "  Accuracy:\n",
      "ECG:\t0.3113\n",
      "EDA:\t0.3113\n",
      "Both:\t0.3122\n",
      "  Average F1:\n",
      "ECG:\t0.1249\n",
      "EDA:\t0.1187\n",
      "Both:\t0.1332\n",
      "  Weighted F1:\n",
      "ECG:\t0.1547\n",
      "EDA:\t0.1478\n",
      "Both:\t0.1641\n",
      "\n"
     ]
    }
   ],
   "source": [
    "print(f'''\n",
    "  Accuracy:\n",
    "ECG:\\t{ecg_cr['accuracy']:.4f}\n",
    "EDA:\\t{eda_cr['accuracy']:.4f}\n",
    "Both:\\t{cr['accuracy']:.4f}\n",
    "  Average F1:\n",
    "ECG:\\t{ecg_cr['macro avg']['f1-score']:.4f}\n",
    "EDA:\\t{eda_cr['macro avg']['f1-score']:.4f}\n",
    "Both:\\t{cr['macro avg']['f1-score']:.4f}\n",
    "  Weighted F1:\n",
    "ECG:\\t{ecg_cr['weighted avg']['f1-score']:.4f}\n",
    "EDA:\\t{eda_cr['weighted avg']['f1-score']:.4f}\n",
    "Both:\\t{cr['weighted avg']['f1-score']:.4f}\n",
    "''')"
   ],
   "metadata": {
    "collapsed": false,
    "ExecuteTime": {
     "start_time": "2023-06-19T16:55:28.343425Z",
     "end_time": "2023-06-19T16:55:28.343838Z"
    }
   }
  },
  {
   "cell_type": "code",
   "execution_count": 47,
   "outputs": [],
   "source": [],
   "metadata": {
    "collapsed": false,
    "ExecuteTime": {
     "start_time": "2023-06-19T16:55:28.343667Z",
     "end_time": "2023-06-19T16:55:28.345366Z"
    }
   }
  }
 ],
 "metadata": {
  "kernelspec": {
   "display_name": "Python 3",
   "language": "python",
   "name": "python3"
  },
  "language_info": {
   "codemirror_mode": {
    "name": "ipython",
    "version": 2
   },
   "file_extension": ".py",
   "mimetype": "text/x-python",
   "name": "python",
   "nbconvert_exporter": "python",
   "pygments_lexer": "ipython2",
   "version": "2.7.6"
  }
 },
 "nbformat": 4,
 "nbformat_minor": 0
}
